{
 "cells": [
  {
   "cell_type": "markdown",
   "metadata": {},
   "source": [
    "**Group 08**\n",
    "\n",
    "Ana Cláudia Alferes - M20190932\n",
    "\n",
    "\n",
    "Francisco Carujo Neves - M20190089\n",
    "\n",
    "\n",
    "Luís Filipe Pinho - M20190935"
   ]
  },
  {
   "cell_type": "markdown",
   "metadata": {},
   "source": [
    "# Big Data Modeling and Management Assigment\n",
    "\n",
    "\n",
    "## 🍺 The Beer project  🍺 \n",
    "\n",
    "As it was shown in classes, graph databases are a natural way of navegating distinct types of data. For this first project we will be taking a graph database to analyse beer and breweries!   \n",
    "\n",
    "_For reference the dataset used for this project has been extracted from [kaggle](https://www.kaggle.com/ehallmar/beers-breweries-and-beer-reviews), released by Evan Hallmark. Even though the author does not present metada on the origin of the data it is probably a collection of open data from places like [beeradvocate](https://www.beeradvocate.com/)_ \n",
    "\n",
    "#### Problem description\n",
    "\n",
    "Explore the database via python neo4j connector and/or the graphical tool in the NEO4J webpage. Answer the questions. Submit the results by following the instructions\n",
    "\n",
    "#### Connection details to the neo4j database\n",
    "```\n",
    "Host: rhea.isegi.unl.pt:7474  \n",
    "Username: neo4j  \n",
    "Password: F3cfcrnvBev57KZ8mcMk78L9wHgJVZuJ \n",
    "Connect URL : bolt://rhea.isegi.unl.pt:7687\n",
    "```\n",
    "\n",
    "\n",
    "#### Questions\n",
    "\n",
    "\n",
    "0. __Example__ Question _How many beers does the database contain?_\n",
    "1. How many countries are accounted in this database?\n",
    "1. Which entity holds the most reviews:  \n",
    "    1. Beer?  \n",
    "    1. Brewery?\n",
    "    1. Country? \n",
    "1. Find the user/users that have the most shared reviews(reviews or the same beers) with the user CTJman?\n",
    "1. Which Portuguese brand has the most beers?\n",
    "1. Out of those beers, which has the most reviews?\n",
    "1. On average how many different beer styles does each brewery produce?\n",
    "1. Which brewery produces the strongest beers according to ABV?\n",
    "1. If I typically enjoy a beer due to its aroma and appearance, which beer style should I try?\n",
    "1. If you had to pick 3 beers to recommend using only this data, which would you pick?\n",
    "\n",
    "##### Groups  \n",
    "Groups should have 3 to 4 people  \n",
    "You should register your group in the link:\n",
    "- https://liveeduisegiunl-my.sharepoint.com/:x:/g/personal/fpinheiro_novaims_unl_pt/EYtFTvuGwiRCsakM67f3C4oBrafEJ8M1juXlP7OUdNg2PA?rtime=BlYdnK_n10g\n",
    "\n",
    "\n",
    "##### Submission      \n",
    "\n",
    "Submission of the query results to be done to the redis database (explained on the first class), with the exception of question 9.  \n",
    "The following format is expected:\n",
    "```\n",
    "    >>> redis.set(\"GROUP1:0\", \"358873\")\n",
    "```\n",
    "\n",
    "This result should be the anwser of group 1 to question 0\n",
    "\n",
    "The solutions with the code used to produce the results and respective explations should be uploaded to moodle. They should have a clear reference to the group, either on the file name or on the document itself. Preferably one Jupyter notebook per group.\n",
    "\n",
    "Delivery date: Until the **midnight of May 7th**\n",
    "\n",
    "##### Evaluation   \n",
    "\n",
    "This will be 15% of the final grade.   \n",
    "Each solution will be evaluate on 2 components: correctness of results and simplicity of the solution.  \n",
    "All code will go through plagiarism automated checks. Groups with the same code will undergo investigation."
   ]
  },
  {
   "cell_type": "code",
   "execution_count": 1,
   "metadata": {},
   "outputs": [],
   "source": [
    "import py2neo\n",
    "from pprint import pprint\n",
    "import redis"
   ]
  },
  {
   "cell_type": "markdown",
   "metadata": {},
   "source": [
    "Host: rhea.isegi.unl.pt:7474  \n",
    "Username: neo4j  \n",
    "Password: F3cfcrnvBev57KZ8mcMk78L9wHgJVZuJ\n",
    "\n",
    "Connect URL : bolt://rhea.isegi.unl.pt:7687"
   ]
  },
  {
   "cell_type": "code",
   "execution_count": 2,
   "metadata": {},
   "outputs": [],
   "source": [
    "R_edis = redis.Redis(\n",
    "    host='rhea.isegi.unl.pt',                            \n",
    "    port='6379',                                         \n",
    "    password='4k9krMVdstxm9VvsSQQcvB7zZxwmWLqMXwxqctM5', \n",
    "    decode_responses=True\n",
    ")"
   ]
  },
  {
   "cell_type": "code",
   "execution_count": 3,
   "metadata": {},
   "outputs": [],
   "source": [
    "username=\"neo4j\"\n",
    "password=\"F3cfcrnvBev57KZ8mcMk78L9wHgJVZuJ\"\n",
    "host=\"rhea.isegi.unl.pt\"\n",
    "port=\"7474\""
   ]
  },
  {
   "cell_type": "code",
   "execution_count": 4,
   "metadata": {},
   "outputs": [
    {
     "data": {
      "text/plain": [
       "[{'count(*)': 9647597}]"
      ]
     },
     "execution_count": 4,
     "metadata": {},
     "output_type": "execute_result"
    }
   ],
   "source": [
    "secure_graph = py2neo.Graph(f\"http://{username}:{password}@{host}:{port}\")\n",
    "secure_graph.run(\"MATCH () RETURN count(*)\").data()"
   ]
  },
  {
   "cell_type": "markdown",
   "metadata": {},
   "source": [
    "# Some Information"
   ]
  },
  {
   "cell_type": "markdown",
   "metadata": {},
   "source": [
    "Explanations and submission of the answers are done directly below each query"
   ]
  },
  {
   "cell_type": "code",
   "execution_count": 5,
   "metadata": {},
   "outputs": [],
   "source": [
    "##QUESTION 0"
   ]
  },
  {
   "cell_type": "code",
   "execution_count": 6,
   "metadata": {},
   "outputs": [
    {
     "name": "stdout",
     "output_type": "stream",
     "text": [
      "[{'count (*)': 358873}]\n"
     ]
    }
   ],
   "source": [
    "result = secure_graph.run(\"\"\"\n",
    "        MATCH (b:Beers)\n",
    "        RETURN count (*)\n",
    "\"\"\").data()\n",
    "pprint(result)"
   ]
  },
  {
   "cell_type": "code",
   "execution_count": 7,
   "metadata": {},
   "outputs": [
    {
     "data": {
      "text/plain": [
       "True"
      ]
     },
     "execution_count": 7,
     "metadata": {},
     "output_type": "execute_result"
    }
   ],
   "source": [
    "R_edis.set(\"GROUP8:0\", 358873)"
   ]
  },
  {
   "cell_type": "markdown",
   "metadata": {},
   "source": [
    "**Explanation**\n",
    "\n",
    "To answer this example question, we matched the Beers table, which contains all the beers in the database from all the breweries. Because we want to know how many beers are in this database, we needed the count of the total number of Beers, so we used RETURN count(*), and the result is 358873 beers in the database.\n",
    "\n",
    "**Result**\n",
    "358873 beers\n"
   ]
  },
  {
   "cell_type": "code",
   "execution_count": 8,
   "metadata": {},
   "outputs": [],
   "source": [
    "##QUESTION 1"
   ]
  },
  {
   "cell_type": "code",
   "execution_count": 9,
   "metadata": {},
   "outputs": [
    {
     "name": "stdout",
     "output_type": "stream",
     "text": [
      "[{'count (*)': 200}]\n"
     ]
    }
   ],
   "source": [
    "result = secure_graph.run(\"\"\"\n",
    "        MATCH (c:Country)\n",
    "        RETURN count (*)\n",
    "\"\"\").data()\n",
    "pprint(result)"
   ]
  },
  {
   "cell_type": "code",
   "execution_count": 10,
   "metadata": {},
   "outputs": [
    {
     "data": {
      "text/plain": [
       "True"
      ]
     },
     "execution_count": 10,
     "metadata": {},
     "output_type": "execute_result"
    }
   ],
   "source": [
    "R_edis.set(\"GROUP8:1\", 200)"
   ]
  },
  {
   "cell_type": "markdown",
   "metadata": {},
   "source": [
    "For question number 1, we want to know the total number of countries in the database. For that purpose, we matched the table Country, which contains all the countries in the database. To return the total number, we used the count(*) to count all the rows in this table. So, the total number of countries in the database is 200."
   ]
  },
  {
   "cell_type": "code",
   "execution_count": 11,
   "metadata": {},
   "outputs": [],
   "source": [
    "##QUESTION 2"
   ]
  },
  {
   "cell_type": "code",
   "execution_count": 12,
   "metadata": {},
   "outputs": [
    {
     "name": "stdout",
     "output_type": "stream",
     "text": [
      "[{'b.name': 'IPA', 'cnt': 31387}]\n"
     ]
    }
   ],
   "source": [
    "result = secure_graph.run(\"\"\"\n",
    "        MATCH (re:Reviews)-[r:ABOUT]->(b:Beers)\n",
    "        RETURN b.name,count(b.name) as cnt\n",
    "        ORDER BY cnt DESC\n",
    "        LIMIT 1\n",
    "\"\"\").data()\n",
    "pprint(result)"
   ]
  },
  {
   "cell_type": "code",
   "execution_count": 13,
   "metadata": {},
   "outputs": [
    {
     "name": "stdout",
     "output_type": "stream",
     "text": [
      "[{'br.name': 'Sierra Nevada Brewing Co.', 'cnt': 175161}]\n"
     ]
    }
   ],
   "source": [
    "result = secure_graph.run(\"\"\"\n",
    "        MATCH (re:Reviews)-[r:ABOUT]->(b:Beers)-[ba:BREWED_AT]->(br:Breweries)\n",
    "        RETURN br.name,count(br.name) as cnt\n",
    "        ORDER BY cnt DESC\n",
    "        LIMIT 1\n",
    "\"\"\").data()\n",
    "pprint(result)"
   ]
  },
  {
   "cell_type": "code",
   "execution_count": 14,
   "metadata": {},
   "outputs": [
    {
     "name": "stdout",
     "output_type": "stream",
     "text": [
      "[{'c.country_digit': 'US', 'cnt': 7524410}]\n"
     ]
    }
   ],
   "source": [
    "result = secure_graph.run(\"\"\"\n",
    "        MATCH (re:Reviews)-[r:ABOUT]->(b:Beers)-[ba:BREWED_AT]->(br:Breweries)-[f:FROM]->(c:Country)\n",
    "        RETURN c.country_digit,count(c.country_digit) as cnt\n",
    "        ORDER BY cnt DESC\n",
    "        LIMIT 1\n",
    "\"\"\").data()\n",
    "pprint(result)"
   ]
  },
  {
   "cell_type": "code",
   "execution_count": 15,
   "metadata": {},
   "outputs": [
    {
     "data": {
      "text/plain": [
       "True"
      ]
     },
     "execution_count": 15,
     "metadata": {},
     "output_type": "execute_result"
    }
   ],
   "source": [
    "R_edis.set(\"GROUP8:2A\", 'IPA')"
   ]
  },
  {
   "cell_type": "code",
   "execution_count": 16,
   "metadata": {},
   "outputs": [
    {
     "data": {
      "text/plain": [
       "True"
      ]
     },
     "execution_count": 16,
     "metadata": {},
     "output_type": "execute_result"
    }
   ],
   "source": [
    "R_edis.set(\"GROUP8:2B\", 'Sierra Nevada Brewing Co.')"
   ]
  },
  {
   "cell_type": "code",
   "execution_count": 17,
   "metadata": {},
   "outputs": [
    {
     "data": {
      "text/plain": [
       "True"
      ]
     },
     "execution_count": 17,
     "metadata": {},
     "output_type": "execute_result"
    }
   ],
   "source": [
    "R_edis.set(\"GROUP8:2C\", 'US')"
   ]
  },
  {
   "cell_type": "markdown",
   "metadata": {},
   "source": [
    "For question 2, we will divide our answer in three parts, because we performed three different queries.\n",
    "For part A, we needed the beer with the highest number of reviews. For that reason, we matched the table Reviews, which contains all the reviews in the database. However, we only wanted the reviews on Beers, so we used the connection \"About\" between the tables Reviews and Beers to explain that we only needed beers. In our output, we wanted the algorithm to return the name of the beer and the number or reviews (calculated by the count of the times the name of the beer appeared). Finally, we ordered the output in descending order, in order to see in first place, the beer with the highest number of reviews, which is \"IPA\", with 31387 reviews.\n",
    "In part B, we were requested the Brewery with the highest amount of beer reviews. To answer this question, we started the same way as in part A, by checking the beers in the table Reviews. However, in this question, we had to go deeper, in order to know to which brewery those beers belong to. So, we used the connection \"BREWED_AT\", to know, from the beers which were reviewed, what is the Brewery that produces them. As an output, we wanted the name of the brewery and the total number of times that the name of that brewery appeared, calculated with a count, and ordered in descending order. By looking at the output, the brewery with the highest number of reviews is Sierra Nevada Brewing Co., with 175161 reviews.\n",
    "Finally, in part C, we wanted to know which is the country with the highest number of beer reviews. We calculated the same way as in the previous parts, by matching the table reviews, and to know the beers that were reviewed, and which brewery produced them. Now, with the connection \"FROM\" between the tables Breweries and Country, we will know from which country is every Brewery. For our output, we wanted the algorithm to return the country digit, to identify the country, and the number of times that this digit appeared in the reviews, calculated by counting the names, and ordering the results in descending order. The answer for this question is the United States of America, with 7524410 reviews.\n"
   ]
  },
  {
   "cell_type": "code",
   "execution_count": 18,
   "metadata": {},
   "outputs": [],
   "source": [
    "##QUESTION 3"
   ]
  },
  {
   "cell_type": "code",
   "execution_count": 19,
   "metadata": {},
   "outputs": [
    {
     "name": "stdout",
     "output_type": "stream",
     "text": [
      "[{'cnt': 1428, 'u.user_name': 'acurtis'}]\n"
     ]
    }
   ],
   "source": [
    "result = secure_graph.run(\"\"\"\n",
    "    MATCH (uCTJ:Username{user_name:'CTJman'})-[mCTJ:MADE]->(reCTJ:Reviews)-[rCTJ:ABOUT]->(b:Beers)<-[r:ABOUT]-(re:Reviews)<-[m:MADE]-(u:Username)\n",
    "    RETURN u.user_name,count(re) as cnt\n",
    "    ORDER BY cnt DESC\n",
    "    LIMIT 1\n",
    "\"\"\").data()\n",
    "pprint(result)"
   ]
  },
  {
   "cell_type": "code",
   "execution_count": 20,
   "metadata": {},
   "outputs": [
    {
     "data": {
      "text/plain": [
       "True"
      ]
     },
     "execution_count": 20,
     "metadata": {},
     "output_type": "execute_result"
    }
   ],
   "source": [
    "R_edis.set(\"GROUP8:3\", 'acurtis')"
   ]
  },
  {
   "cell_type": "markdown",
   "metadata": {},
   "source": [
    "In this question the process made was connecting the Username to Reviews, and Review to Beers through the defined connection between files, in this first part of the **MATCH** was already defined that the Username wanted was \"CTJman\". Then we proceed to make the same connection in the second part of the MATCH but this time without any restriction. Having this MATCH build we move on for the **RETURN** part of the code and we specify that we wanted to return the Username(x) and the count of reviews connects to this Username(x). In this way we are counting the reviews that Username(x) has done in the same Beers as \"CTJman\" thus reaching our conclusion **Ordering by the count** and putting an **Limit of 1**."
   ]
  },
  {
   "cell_type": "code",
   "execution_count": 21,
   "metadata": {},
   "outputs": [],
   "source": [
    "##QUESTION 4"
   ]
  },
  {
   "cell_type": "code",
   "execution_count": 22,
   "metadata": {},
   "outputs": [
    {
     "name": "stdout",
     "output_type": "stream",
     "text": [
      "[{'br.name': 'Dois Corvos Cervejeira', 'cnt': 40}]\n"
     ]
    }
   ],
   "source": [
    "result = secure_graph.run(\"\"\"\n",
    "        MATCH (b:Beers)-[ba:BREWED_AT]->(br:Breweries)-[f:FROM]->(c:Country)\n",
    "        WHERE c.country_digit='PT'\n",
    "        RETURN br.name,count(b) as cnt\n",
    "        ORDER BY cnt DESC\n",
    "        LIMIT 1\n",
    "\"\"\").data()\n",
    "pprint(result)"
   ]
  },
  {
   "cell_type": "code",
   "execution_count": 23,
   "metadata": {},
   "outputs": [
    {
     "data": {
      "text/plain": [
       "True"
      ]
     },
     "execution_count": 23,
     "metadata": {},
     "output_type": "execute_result"
    }
   ],
   "source": [
    "R_edis.set(\"GROUP8:4\", 'Dois Corvos Cervejeira', )"
   ]
  },
  {
   "cell_type": "markdown",
   "metadata": {},
   "source": [
    "In this question the process made was connection in the **MATCH** the Beers to Brewery, and Brewery to Country. These connections were already defined through affiliations. The next step was adding a condition **WHERE** to specify that the Country from which we want information, in this case **'PT'**. So, in the next clause, the **RETURN** one, we defined that we wanted the Brewery name and the count of the Beers. In the last stage we just **Order by the count** and with this we can see the Portuguese Breweries that produce most beers."
   ]
  },
  {
   "cell_type": "code",
   "execution_count": 24,
   "metadata": {},
   "outputs": [],
   "source": [
    "##QUESTION 5"
   ]
  },
  {
   "cell_type": "code",
   "execution_count": 25,
   "metadata": {},
   "outputs": [
    {
     "name": "stdout",
     "output_type": "stream",
     "text": [
      "[{'b.name': 'Super Bock', 'cnt': 391}]\n"
     ]
    }
   ],
   "source": [
    "result = secure_graph.run(\"\"\"\n",
    "        MATCH (re:Reviews)-[r:ABOUT]->(b:Beers)-[ba:BREWED_AT]->(br:Breweries)-[f:FROM]->(c:Country)\n",
    "        WHERE c.country_digit='PT'\n",
    "        RETURN b.name,count(re) as cnt\n",
    "        ORDER BY cnt DESC\n",
    "        LIMIT 1\n",
    "\"\"\").data()\n",
    "pprint(result)"
   ]
  },
  {
   "cell_type": "code",
   "execution_count": 26,
   "metadata": {},
   "outputs": [
    {
     "data": {
      "text/plain": [
       "True"
      ]
     },
     "execution_count": 26,
     "metadata": {},
     "output_type": "execute_result"
    }
   ],
   "source": [
    "R_edis.set(\"GROUP8:5\", 'Super Bock')"
   ]
  },
  {
   "cell_type": "markdown",
   "metadata": {},
   "source": [
    "The process in this question was very similar to one before we just added in the beginning on the first clause **MATCH** the Reviews connection to Beers using the ABOUT relationship that was pre-define. The difference between this question and the question before is that we have to **RETURN** the Beer name and the count of Reviews. Once we have this we can **Order by the count** and check the Portuguese Beers with the most reviews."
   ]
  },
  {
   "cell_type": "code",
   "execution_count": 27,
   "metadata": {},
   "outputs": [],
   "source": [
    "##QUESTION 6"
   ]
  },
  {
   "cell_type": "code",
   "execution_count": 28,
   "metadata": {},
   "outputs": [
    {
     "name": "stdout",
     "output_type": "stream",
     "text": [
      "[{'avg(cnt)': 10.595992516144603}]\n"
     ]
    }
   ],
   "source": [
    "result = secure_graph.run(\"\"\"\n",
    "        MATCH (br:Breweries)<-[ba:BREWED_AT]-(b:Beers)-[r:OF_TYPE]->(s:Style)\n",
    "        WITH br, count(distinct s) as cnt\n",
    "        RETURN avg(cnt)\n",
    "\"\"\").data()\n",
    "pprint(result)"
   ]
  },
  {
   "cell_type": "code",
   "execution_count": 29,
   "metadata": {},
   "outputs": [
    {
     "data": {
      "text/plain": [
       "11"
      ]
     },
     "execution_count": 29,
     "metadata": {},
     "output_type": "execute_result"
    }
   ],
   "source": [
    "round(result[0]['avg(cnt)'])"
   ]
  },
  {
   "cell_type": "markdown",
   "metadata": {},
   "source": [
    "We understood that the output for this question should be the average of Styles given the number of all the breweries.\n",
    "For this query we started by following the route that would connect Breweries to Style.\n",
    "To do this we had to connect Beers to both, through BREWED_AT and OF_TYPE respectively, as this was their only common point.\n",
    "Upon doing this we assigned a count of the distinct styles from the breweries to the variable count, returning their average. The value returned was 10.595 and since we can't have half a style we decided to round this output,leading to 11"
   ]
  },
  {
   "cell_type": "code",
   "execution_count": 30,
   "metadata": {},
   "outputs": [
    {
     "data": {
      "text/plain": [
       "True"
      ]
     },
     "execution_count": 30,
     "metadata": {},
     "output_type": "execute_result"
    }
   ],
   "source": [
    "R_edis.set(\"GROUP8:6\", '11')"
   ]
  },
  {
   "cell_type": "code",
   "execution_count": 31,
   "metadata": {},
   "outputs": [],
   "source": [
    "##QUESTION 7"
   ]
  },
  {
   "cell_type": "code",
   "execution_count": 32,
   "metadata": {},
   "outputs": [
    {
     "name": "stdout",
     "output_type": "stream",
     "text": [
      "[{'br.name': '1648 Brewing Company Ltd',\n",
      "  'count(br.name)': 2,\n",
      "  'toFloat(b.abv)': 100.0}]\n"
     ]
    }
   ],
   "source": [
    "result = secure_graph.run(\"\"\"\n",
    "        MATCH (b:Beers)-[ba:BREWED_AT]->(br:Breweries)\n",
    "        WHERE toFloat(b.abv)>=20\n",
    "        RETURN br.name,toFloat(b.abv),count(br.name)\n",
    "        ORDER BY toFloat(b.abv) DESC, count(br.name) DESC\n",
    "        LIMIT 1\n",
    "\"\"\").data()\n",
    "pprint(result)"
   ]
  },
  {
   "cell_type": "code",
   "execution_count": 33,
   "metadata": {},
   "outputs": [
    {
     "data": {
      "text/plain": [
       "True"
      ]
     },
     "execution_count": 33,
     "metadata": {},
     "output_type": "execute_result"
    }
   ],
   "source": [
    "R_edis.set(\"GROUP8:7\", '1648 Brewing Company Ltd')"
   ]
  },
  {
   "cell_type": "markdown",
   "metadata": {},
   "source": [
    "For the following query we started with a simple connection from Beers to Breweries, which was accomplished with BREWED_AT.\n",
    "After this simple query we ordered our output by abv and after some research online found that the abv values were too high for beers. As such we defined 20 as an acceptable threshold for the strongest beers, as this only reflected a tiny amount of data.\n",
    "After this decision we included a WHERE condition to filter out beers with an abv lower than 20, we had to include a toFloat() function as well, given the fact that the abv value was not a numeric value but rather a string.\n",
    "With this condition in place, we returned the brewery's name alongside the abv of one of the latter beers and the number of times the brewery had a beer of the same abv. We implemented the latter as we found out that we had beers tied in 1st place, so decided on using this as a tiebreaker. \n",
    "With a simple ORDER BY the abv value, followed by a second ORDER BY the count of the number of times the brewery had a beer of the same abv and a LIMIT of 1 we found our strongest brewery, with it being 1648 Brewing Company LTD, which had 2 beers with an abv of 100."
   ]
  },
  {
   "cell_type": "code",
   "execution_count": 34,
   "metadata": {},
   "outputs": [],
   "source": [
    "##QUESTION 8"
   ]
  },
  {
   "cell_type": "code",
   "execution_count": 35,
   "metadata": {},
   "outputs": [
    {
     "name": "stdout",
     "output_type": "stream",
     "text": [
      "[{'avg(metric)': 5.0, 'b.name': 'Big Hefe', 'count(re)': 5}]\n"
     ]
    }
   ],
   "source": [
    "result = secure_graph.run(\"\"\"\n",
    "        MATCH (re:Reviews)-[r:ABOUT]->(b:Beers)\n",
    "        WHERE toFloat(re.smell) IS NOT NULL AND toFloat(re.look) IS NOT NULL\n",
    "        WITH b,re,toFloat(re.smell) as Aroma, toFloat(re.look) as Appearance\n",
    "        WITH b,re,(Aroma+Appearance)/2 as metric\n",
    "        RETURN b.name, avg(metric) , count(re) \n",
    "        ORDER BY avg(metric) DESC, count(re) DESC\n",
    "        LIMIT 1 \n",
    "\"\"\").data()\n",
    "pprint(result)"
   ]
  },
  {
   "cell_type": "code",
   "execution_count": 36,
   "metadata": {},
   "outputs": [
    {
     "data": {
      "text/plain": [
       "True"
      ]
     },
     "execution_count": 36,
     "metadata": {},
     "output_type": "execute_result"
    }
   ],
   "source": [
    "R_edis.set(\"GROUP8:8\", 'Big Hefe')"
   ]
  },
  {
   "cell_type": "markdown",
   "metadata": {},
   "source": [
    "For the following query we started with a simple connection from Reviews to Beers, which was accomplished through ABOUT.\n",
    "Our first thought was to use the average of appearance value and the aroma value as the decider for the outcome. \n",
    "To do this we eliminated any possible null values in either variables, since there were reviews which only had the overall value but none of the variables that composed it.\n",
    "Following this for an ease of usage we decided to appoint smell and look variables of the node to actual variables, with their conversion to floats done in the process.\n",
    "For a prettier code, we used another WITH which made the calculation of the average mentioned beforehand.\n",
    "We thus returned that output alongside the beer's name and the amount of reviews to serve as a tiebreaker, just like in the previous questions.\n",
    "Following this we set two simple ORDER BY followed by a LIMIT 1 which resulted in the output Big Hefe, winning the tie-break with 5 reviews.\n"
   ]
  },
  {
   "cell_type": "code",
   "execution_count": 37,
   "metadata": {},
   "outputs": [],
   "source": [
    "##QUESTION 9"
   ]
  },
  {
   "cell_type": "code",
   "execution_count": 38,
   "metadata": {},
   "outputs": [
    {
     "name": "stdout",
     "output_type": "stream",
     "text": [
      "[{'avg(Overall)': 5.0, 'b.name': 'Sunderland Mild', 'supercnt': 2},\n",
      " {'avg(Overall)': 5.0, 'b.name': 'Distorter Porter', 'supercnt': 1},\n",
      " {'avg(Overall)': 5.0, 'b.name': 'Scottish Perle', 'supercnt': 1}]\n"
     ]
    }
   ],
   "source": [
    "result = secure_graph.run(\"\"\"\n",
    "        MATCH (re:Reviews)-[r:ABOUT]->(b:Beers)\n",
    "        WHERE toFloat(re.overall) IS NOT NULL AND b.retired='f' AND (b.availability=' Spring' OR b.availability=' Year-round')\n",
    "        WITH b,re,r,toFloat(re.overall) as Overall\n",
    "        RETURN b.name,avg(Overall),count(r) as supercnt \n",
    "        ORDER BY avg(Overall) DESC,supercnt DESC\n",
    "        LIMIT 3\n",
    "\"\"\").data()\n",
    "pprint(result)"
   ]
  },
  {
   "cell_type": "markdown",
   "metadata": {},
   "source": [
    "For question 9 we decided that we would use the overall value from the users recomendations to suggest the best beers.\n",
    "The code structure is fairly similar to the one in the previous question. It does however include some extra clauses such as if the beverage is retired or not, since we don't want to suggest a beer hard to come by and by the same reason we chose the ones made in Spring, as it is the current season and as such we feel are the easier ones to get at the moment, in addition we also choose the ones year-round as these are always available\n",
    "\n",
    "**Result** From the result of the query the beers recomended are Sunderland Mild,Distorter Porter and Scottish Perle"
   ]
  }
 ],
 "metadata": {
  "kernelspec": {
   "display_name": "Python 3",
   "language": "python",
   "name": "python3"
  },
  "language_info": {
   "codemirror_mode": {
    "name": "ipython",
    "version": 3
   },
   "file_extension": ".py",
   "mimetype": "text/x-python",
   "name": "python",
   "nbconvert_exporter": "python",
   "pygments_lexer": "ipython3",
   "version": "3.7.4"
  }
 },
 "nbformat": 4,
 "nbformat_minor": 4
}
