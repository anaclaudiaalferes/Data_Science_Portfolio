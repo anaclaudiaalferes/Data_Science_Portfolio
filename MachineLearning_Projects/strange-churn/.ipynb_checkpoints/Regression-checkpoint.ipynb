{
 "cells": [
  {
   "cell_type": "markdown",
   "metadata": {},
   "source": [
    "# Machine Learning\n",
    "#### Semester: Spring 2020\n",
    "Ana Claudia Alferes (M20190932)"
   ]
  },
  {
   "cell_type": "code",
   "execution_count": 98,
   "metadata": {},
   "outputs": [],
   "source": [
    "import plotly.graph_objects as go\n",
    "import pandas as pd\n",
    "import matplotlib.pyplot as plt\n",
    "import seaborn as sns\n",
    "from sklearn.metrics import classification_report, confusion_matrix\n",
    "from sklearn.model_selection import train_test_split\n",
    "import numpy as np\n",
    "from sklearn.neighbors import KNeighborsRegressor\n",
    "from sklearn.preprocessing import MinMaxScaler\n",
    "from sklearn import preprocessing\n",
    "from sklearn.neighbors import KNeighborsClassifier\n",
    "from sklearn.linear_model import LogisticRegression\n",
    "from sklearn.metrics import accuracy_score\n",
    "from sklearn.metrics import f1_score\n",
    "from sklearn.linear_model import LinearRegression\n",
    "from sklearn.feature_selection import RFE"
   ]
  },
  {
   "cell_type": "code",
   "execution_count": 93,
   "metadata": {},
   "outputs": [],
   "source": [
    "data = pd.read_csv('train.csv')\n",
    "data= data.fillna(-1)"
   ]
  },
  {
   "cell_type": "code",
   "execution_count": 110,
   "metadata": {},
   "outputs": [],
   "source": [
    "data[\"DummyGender\"] = data.Gender.apply(lambda x: 1 if x==\"male\" else 0) #Male = 1 , Female = 0\n",
    "\n",
    "le = preprocessing.LabelEncoder()\n",
    "le.fit(data['Marital_status'])\n",
    "data[\"encoded_Marital\"] = le.transform(data['Marital_status'])\n",
    "\n",
    "le = preprocessing.LabelEncoder()\n",
    "le.fit(data['Department'])\n",
    "data[\"encoded_Department\"] = le.transform(data['Department'])\n",
    "\n",
    "le = preprocessing.LabelEncoder()\n",
    "le.fit(data['Churn_risk'])\n",
    "data[\"encoded_Churn\"] = le.transform(data['Churn_risk'])\n"
   ]
  },
  {
   "cell_type": "code",
   "execution_count": 111,
   "metadata": {},
   "outputs": [
    {
     "data": {
      "text/plain": [
       "encoded_Churn         1.000000\n",
       "Overtime              0.228538\n",
       "Rotations             0.099513\n",
       "DummyGender           0.064690\n",
       "Kids                  0.040649\n",
       "encoded_Marital       0.021250\n",
       "Emails                0.012250\n",
       "Employee_ID           0.005568\n",
       "Distance              0.005010\n",
       "encoded_Department   -0.013355\n",
       "Age                  -0.023837\n",
       "Satis_leader         -0.036756\n",
       "Tenure               -0.044936\n",
       "Satis_team           -0.113514\n",
       "Bonus                -0.156972\n",
       "Days_off             -0.203102\n",
       "Name: encoded_Churn, dtype: float64"
      ]
     },
     "execution_count": 111,
     "metadata": {},
     "output_type": "execute_result"
    }
   ],
   "source": [
    "data.corr()[\"encoded_Churn\"].sort_values(ascending = False )"
   ]
  },
  {
   "cell_type": "code",
   "execution_count": 101,
   "metadata": {},
   "outputs": [
    {
     "name": "stdout",
     "output_type": "stream",
     "text": [
      "Index(['Age', 'Days_off', 'Rotations', 'Satis_leader', 'Satis_team', 'Emails',\n",
      "       'Tenure', 'Bonus', 'Distance', 'Overtime', 'DummyGender',\n",
      "       'encoded_Marital', 'encoded_Department'],\n",
      "      dtype='object')\n"
     ]
    },
    {
     "data": {
      "text/plain": [
       "Index(['Employee_ID', 'Gender', 'Age', 'Days_off', 'Rotations', 'Satis_leader',\n",
       "       'Satis_team', 'Emails', 'Tenure', 'Bonus', 'Distance', 'Kids',\n",
       "       'Overtime', 'Marital_status', 'Department', 'Churn_risk', 'DummyGender',\n",
       "       'encoded_Marital', 'encoded_Department', 'encoded_Churn'],\n",
       "      dtype='object')"
      ]
     },
     "execution_count": 101,
     "metadata": {},
     "output_type": "execute_result"
    }
   ],
   "source": [
    "dt = data.iloc[:,[2,3,4,5,6,7,8,9,10,12,16,17,18]]\n",
    "target = data.iloc[:,-1]\n",
    "\n",
    "print(dt.columns)\n",
    "data.columns"
   ]
  },
  {
   "cell_type": "code",
   "execution_count": 102,
   "metadata": {},
   "outputs": [
    {
     "data": {
      "text/plain": [
       "LinearRegression(copy_X=True, fit_intercept=True, n_jobs=None, normalize=False)"
      ]
     },
     "execution_count": 102,
     "metadata": {},
     "output_type": "execute_result"
    }
   ],
   "source": [
    "model = LinearRegression()\n",
    "rfe = RFE(estimator = model)\n",
    "X_rfe = rfe.fit_transform(X = dt, y = target) \n",
    "model.fit(X = X_rfe,y = target)"
   ]
  },
  {
   "cell_type": "code",
   "execution_count": 103,
   "metadata": {},
   "outputs": [
    {
     "data": {
      "text/plain": [
       "array([False,  True, False, False,  True, False, False,  True,  True,\n",
       "        True,  True, False, False])"
      ]
     },
     "execution_count": 103,
     "metadata": {},
     "output_type": "execute_result"
    }
   ],
   "source": [
    "rfe.support_"
   ]
  },
  {
   "cell_type": "code",
   "execution_count": 104,
   "metadata": {},
   "outputs": [
    {
     "data": {
      "text/plain": [
       "array([7, 1, 5, 2, 1, 6, 3, 1, 1, 1, 1, 8, 4])"
      ]
     },
     "execution_count": 104,
     "metadata": {},
     "output_type": "execute_result"
    }
   ],
   "source": [
    "rfe.ranking_"
   ]
  },
  {
   "cell_type": "code",
   "execution_count": 105,
   "metadata": {},
   "outputs": [
    {
     "data": {
      "text/plain": [
       "Age                   False\n",
       "Days_off               True\n",
       "Rotations             False\n",
       "Satis_leader          False\n",
       "Satis_team             True\n",
       "Emails                False\n",
       "Tenure                False\n",
       "Bonus                  True\n",
       "Distance               True\n",
       "Overtime               True\n",
       "DummyGender            True\n",
       "encoded_Marital       False\n",
       "encoded_Department    False\n",
       "dtype: bool"
      ]
     },
     "execution_count": 105,
     "metadata": {},
     "output_type": "execute_result"
    }
   ],
   "source": [
    "selected_features = pd.Series(rfe.support_, index = dt.columns)\n",
    "selected_features"
   ]
  },
  {
   "cell_type": "code",
   "execution_count": 157,
   "metadata": {},
   "outputs": [],
   "source": [
    "data_num = data.loc[:,[\"Days_off\",\"Rotations\",\"Satis_leader\",\"Satis_team\",\"Tenure\",\"Emails\",\"Tenure\",\"Bonus\",\"Distance\",\"Overtime\"]]\n",
    "scaler = MinMaxScaler()\n",
    "data_norm = pd.DataFrame(scaler.fit_transform(data_num), columns=data_num.columns)\n"
   ]
  },
  {
   "cell_type": "code",
   "execution_count": 158,
   "metadata": {},
   "outputs": [],
   "source": [
    "df = pd.concat([data_norm.loc[:,[\"Days_off\",\"Satis_leader\",\"Satis_team\",\"Bonus\",\"Distance\",\"Overtime\"]], (data.loc[:,[\"DummyGender\",\"encoded_Department\"]]).reset_index(drop=True)], axis=1)\n",
    "target = data[\"encoded_Churn\"]"
   ]
  },
  {
   "cell_type": "code",
   "execution_count": 159,
   "metadata": {},
   "outputs": [],
   "source": [
    "X_train, X_val, y_train, y_val = train_test_split(data_norm, target, test_size=0.25, random_state=5)"
   ]
  },
  {
   "cell_type": "code",
   "execution_count": 160,
   "metadata": {},
   "outputs": [],
   "source": [
    "log_model = LogisticRegression()"
   ]
  },
  {
   "cell_type": "code",
   "execution_count": 161,
   "metadata": {},
   "outputs": [
    {
     "data": {
      "text/plain": [
       "LogisticRegression(C=1.0, class_weight=None, dual=False, fit_intercept=True,\n",
       "                   intercept_scaling=1, l1_ratio=None, max_iter=100,\n",
       "                   multi_class='auto', n_jobs=None, penalty='l2',\n",
       "                   random_state=None, solver='lbfgs', tol=0.0001, verbose=0,\n",
       "                   warm_start=False)"
      ]
     },
     "execution_count": 161,
     "metadata": {},
     "output_type": "execute_result"
    }
   ],
   "source": [
    "log_model.fit(X_train,y_train)"
   ]
  },
  {
   "cell_type": "code",
   "execution_count": 162,
   "metadata": {},
   "outputs": [
    {
     "data": {
      "text/plain": [
       "array([2, 1, 2, ..., 2, 1, 1])"
      ]
     },
     "execution_count": 162,
     "metadata": {},
     "output_type": "execute_result"
    }
   ],
   "source": [
    "y_pred = log_model.predict(X_val)\n",
    "y_pred"
   ]
  },
  {
   "cell_type": "code",
   "execution_count": 163,
   "metadata": {},
   "outputs": [
    {
     "data": {
      "text/plain": [
       "array([[0.01199569, 0.40748052, 0.58052379],\n",
       "       [0.00897663, 0.5792945 , 0.41172887],\n",
       "       [0.11891995, 0.04816313, 0.83291692],\n",
       "       ...,\n",
       "       [0.01392407, 0.32747269, 0.65860323],\n",
       "       [0.00698637, 0.50225978, 0.49075385],\n",
       "       [0.00178812, 0.8268123 , 0.17139958]])"
      ]
     },
     "execution_count": 163,
     "metadata": {},
     "output_type": "execute_result"
    }
   ],
   "source": [
    "pred_prob = log_model.predict_proba(X_val)\n",
    "pred_prob"
   ]
  },
  {
   "cell_type": "code",
   "execution_count": 164,
   "metadata": {},
   "outputs": [
    {
     "data": {
      "text/plain": [
       "0.7015384615384616"
      ]
     },
     "execution_count": 164,
     "metadata": {},
     "output_type": "execute_result"
    }
   ],
   "source": [
    "accuracy_score(y_val, y_pred)"
   ]
  },
  {
   "cell_type": "code",
   "execution_count": 165,
   "metadata": {},
   "outputs": [
    {
     "data": {
      "text/plain": [
       "0.7015384615384616"
      ]
     },
     "execution_count": 165,
     "metadata": {},
     "output_type": "execute_result"
    }
   ],
   "source": [
    "f1_score(y_val, y_pred, average=\"micro\")"
   ]
  },
  {
   "cell_type": "markdown",
   "metadata": {},
   "source": [
    "# Test Dataset"
   ]
  },
  {
   "cell_type": "code",
   "execution_count": 154,
   "metadata": {},
   "outputs": [],
   "source": [
    "test = pd.read_csv('test.csv')\n",
    "test= test.fillna(-1)\n",
    "\n",
    "test[\"DummyGender\"] = test.Gender.apply(lambda x: 1 if x==\"male\" else 0) #Male = 1 , Female = 0\n",
    "\n",
    "le2 = preprocessing.LabelEncoder()\n",
    "le2.fit(test['Marital_status'])\n",
    "test[\"encoded_Marital\"] = le2.transform(test['Marital_status'])\n",
    "\n",
    "le2 = preprocessing.LabelEncoder()\n",
    "le2.fit(test['Department'])\n",
    "test[\"encoded_Department\"] = le2.transform(test['Department'])\n",
    "\n",
    "test_num = test.loc[:,[\"Days_off\",\"Rotations\",\"Satis_leader\",\"Satis_team\",\"Emails\",\"Tenure\",\"Bonus\",\"Distance\",\"Overtime\"]]\n",
    "scaler = MinMaxScaler()\n",
    "test_norm = pd.DataFrame(scaler.fit_transform(test_num), columns=test_num.columns)\n",
    "\n",
    "df_test = pd.concat([test_norm.loc[:,[\"Days_off\",\"Satis_leader\",\"Satis_team\",\"Bonus\",\"Distance\",\"Overtime\"]], (test.loc[:,[\"DummyGender\",\"encoded_Department\"]]).reset_index(drop=True)], axis=1)\n",
    "\n"
   ]
  },
  {
   "cell_type": "code",
   "execution_count": 155,
   "metadata": {},
   "outputs": [],
   "source": [
    "labels_test = log_model.predict(test_norm)\n",
    "le.inverse_transform(labels_test)\n",
    "\n",
    "test[\"Churn_Risk\"] = le.inverse_transform(labels_test)\n",
    "\n",
    "csv = test.iloc[:,[0,-1]]\n",
    "csv.to_csv('m20190932_version5.csv',index=False)"
   ]
  },
  {
   "cell_type": "code",
   "execution_count": 156,
   "metadata": {},
   "outputs": [
    {
     "data": {
      "text/html": [
       "<div>\n",
       "<style scoped>\n",
       "    .dataframe tbody tr th:only-of-type {\n",
       "        vertical-align: middle;\n",
       "    }\n",
       "\n",
       "    .dataframe tbody tr th {\n",
       "        vertical-align: top;\n",
       "    }\n",
       "\n",
       "    .dataframe thead th {\n",
       "        text-align: right;\n",
       "    }\n",
       "</style>\n",
       "<table border=\"1\" class=\"dataframe\">\n",
       "  <thead>\n",
       "    <tr style=\"text-align: right;\">\n",
       "      <th></th>\n",
       "      <th>Employee_ID</th>\n",
       "      <th>Churn_Risk</th>\n",
       "    </tr>\n",
       "  </thead>\n",
       "  <tbody>\n",
       "    <tr>\n",
       "      <th>0</th>\n",
       "      <td>1005201</td>\n",
       "      <td>low</td>\n",
       "    </tr>\n",
       "    <tr>\n",
       "      <th>1</th>\n",
       "      <td>1005202</td>\n",
       "      <td>medium</td>\n",
       "    </tr>\n",
       "    <tr>\n",
       "      <th>2</th>\n",
       "      <td>1005203</td>\n",
       "      <td>low</td>\n",
       "    </tr>\n",
       "    <tr>\n",
       "      <th>3</th>\n",
       "      <td>1005204</td>\n",
       "      <td>medium</td>\n",
       "    </tr>\n",
       "    <tr>\n",
       "      <th>4</th>\n",
       "      <td>1005205</td>\n",
       "      <td>medium</td>\n",
       "    </tr>\n",
       "    <tr>\n",
       "      <th>...</th>\n",
       "      <td>...</td>\n",
       "      <td>...</td>\n",
       "    </tr>\n",
       "    <tr>\n",
       "      <th>1295</th>\n",
       "      <td>1006496</td>\n",
       "      <td>medium</td>\n",
       "    </tr>\n",
       "    <tr>\n",
       "      <th>1296</th>\n",
       "      <td>1006497</td>\n",
       "      <td>medium</td>\n",
       "    </tr>\n",
       "    <tr>\n",
       "      <th>1297</th>\n",
       "      <td>1006498</td>\n",
       "      <td>low</td>\n",
       "    </tr>\n",
       "    <tr>\n",
       "      <th>1298</th>\n",
       "      <td>1006499</td>\n",
       "      <td>low</td>\n",
       "    </tr>\n",
       "    <tr>\n",
       "      <th>1299</th>\n",
       "      <td>1006500</td>\n",
       "      <td>low</td>\n",
       "    </tr>\n",
       "  </tbody>\n",
       "</table>\n",
       "<p>1300 rows × 2 columns</p>\n",
       "</div>"
      ],
      "text/plain": [
       "      Employee_ID Churn_Risk\n",
       "0         1005201        low\n",
       "1         1005202     medium\n",
       "2         1005203        low\n",
       "3         1005204     medium\n",
       "4         1005205     medium\n",
       "...           ...        ...\n",
       "1295      1006496     medium\n",
       "1296      1006497     medium\n",
       "1297      1006498        low\n",
       "1298      1006499        low\n",
       "1299      1006500        low\n",
       "\n",
       "[1300 rows x 2 columns]"
      ]
     },
     "execution_count": 156,
     "metadata": {},
     "output_type": "execute_result"
    }
   ],
   "source": [
    "a = pd.read_csv('m20190932_version5.csv')\n",
    "a"
   ]
  },
  {
   "cell_type": "code",
   "execution_count": null,
   "metadata": {},
   "outputs": [],
   "source": []
  }
 ],
 "metadata": {
  "kernelspec": {
   "display_name": "Python 3",
   "language": "python",
   "name": "python3"
  },
  "language_info": {
   "codemirror_mode": {
    "name": "ipython",
    "version": 3
   },
   "file_extension": ".py",
   "mimetype": "text/x-python",
   "name": "python",
   "nbconvert_exporter": "python",
   "pygments_lexer": "ipython3",
   "version": "3.7.7"
  }
 },
 "nbformat": 4,
 "nbformat_minor": 4
}
