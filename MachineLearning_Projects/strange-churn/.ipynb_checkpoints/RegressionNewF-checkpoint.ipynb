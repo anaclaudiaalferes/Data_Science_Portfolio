{
 "cells": [
  {
   "cell_type": "code",
   "execution_count": 755,
   "metadata": {},
   "outputs": [],
   "source": [
    "import plotly.graph_objects as go\n",
    "import pandas as pd\n",
    "import matplotlib.pyplot as plt\n",
    "import seaborn as sns\n",
    "from sklearn.metrics import classification_report, confusion_matrix\n",
    "from sklearn.model_selection import train_test_split\n",
    "import numpy as np\n",
    "from sklearn.neighbors import KNeighborsRegressor\n",
    "from sklearn.preprocessing import MinMaxScaler\n",
    "from sklearn import preprocessing\n",
    "from sklearn.neighbors import KNeighborsClassifier\n",
    "from sklearn.linear_model import LogisticRegression\n",
    "from sklearn.metrics import accuracy_score\n",
    "from sklearn.metrics import f1_score\n",
    "from sklearn.linear_model import LinearRegression\n",
    "from sklearn.feature_selection import RFE\n",
    "from sklearn.impute import KNNImputer\n",
    "from sklearn.preprocessing import StandardScaler"
   ]
  },
  {
   "cell_type": "code",
   "execution_count": 756,
   "metadata": {},
   "outputs": [],
   "source": [
    "data = pd.read_csv('train.csv')\n",
    "data_num = data.loc[:,[\"Age\",\"Days_off\",\"Rotations\",\"Satis_leader\",\"Satis_team\",\"Tenure\",\"Emails\",\"Bonus\",\"Distance\",\"Overtime\",\"Kids\"]]"
   ]
  },
  {
   "cell_type": "code",
   "execution_count": 757,
   "metadata": {},
   "outputs": [],
   "source": [
    "imputer = KNNImputer(n_neighbors=2)\n",
    "\n",
    "data_filled = pd.DataFrame(imputer.fit_transform(data_num), columns=[\"Age\",\"Days_off\",\"Rotations\",\"Satis_leader\",\"Satis_team\",\"Tenure\",\"Emails\",\"Bonus\",\"Distance\",\"Overtime\",\"Kids\"])\n",
    "\n",
    "data = pd.concat([data_filled, (data.loc[:,[\"Gender\",\"Marital_status\",\"Department\",\"Churn_risk\"]]).reset_index(drop=True)], axis=1)\n"
   ]
  },
  {
   "cell_type": "code",
   "execution_count": 758,
   "metadata": {},
   "outputs": [],
   "source": [
    "data[\"DummyGender\"] = data.Gender.apply(lambda x: 1 if x==\"male\" else 0) #Male = 1 , Female = 0\n",
    "\n",
    "le = preprocessing.LabelEncoder()\n",
    "le.fit(data['Marital_status'])\n",
    "data[\"encoded_Marital\"] = le.transform(data['Marital_status'])\n",
    "\n",
    "le = preprocessing.LabelEncoder()\n",
    "le.fit(data['Department'])\n",
    "data[\"encoded_Department\"] = le.transform(data['Department'])\n",
    "\n",
    "le = preprocessing.LabelEncoder()\n",
    "le.fit(data['Churn_risk'])\n",
    "data[\"encoded_Churn\"] = le.transform(data['Churn_risk'])\n",
    "\n",
    "#data[\"Satis_team\"] = data[\"Satis_team\"].apply(np.log)\n",
    "#data[\"Satis_leader\"] = data[\"Satis_team\"].apply(np.log)"
   ]
  },
  {
   "cell_type": "code",
   "execution_count": 759,
   "metadata": {},
   "outputs": [
    {
     "data": {
      "text/html": [
       "<div>\n",
       "<style scoped>\n",
       "    .dataframe tbody tr th:only-of-type {\n",
       "        vertical-align: middle;\n",
       "    }\n",
       "\n",
       "    .dataframe tbody tr th {\n",
       "        vertical-align: top;\n",
       "    }\n",
       "\n",
       "    .dataframe thead th {\n",
       "        text-align: right;\n",
       "    }\n",
       "</style>\n",
       "<table border=\"1\" class=\"dataframe\">\n",
       "  <thead>\n",
       "    <tr style=\"text-align: right;\">\n",
       "      <th></th>\n",
       "      <th>Age</th>\n",
       "      <th>Days_off</th>\n",
       "      <th>Rotations</th>\n",
       "      <th>Satis_leader</th>\n",
       "      <th>Satis_team</th>\n",
       "      <th>Tenure</th>\n",
       "      <th>Emails</th>\n",
       "      <th>Bonus</th>\n",
       "      <th>Distance</th>\n",
       "      <th>Overtime</th>\n",
       "      <th>Kids</th>\n",
       "      <th>Gender</th>\n",
       "      <th>Marital_status</th>\n",
       "      <th>Department</th>\n",
       "      <th>Churn_risk</th>\n",
       "      <th>DummyGender</th>\n",
       "      <th>encoded_Marital</th>\n",
       "      <th>encoded_Department</th>\n",
       "      <th>encoded_Churn</th>\n",
       "    </tr>\n",
       "  </thead>\n",
       "  <tbody>\n",
       "    <tr>\n",
       "      <th>0</th>\n",
       "      <td>38.0</td>\n",
       "      <td>6.0</td>\n",
       "      <td>1.0</td>\n",
       "      <td>0.364742</td>\n",
       "      <td>0.832</td>\n",
       "      <td>1.095890</td>\n",
       "      <td>4.0</td>\n",
       "      <td>0.356</td>\n",
       "      <td>3.33</td>\n",
       "      <td>12.8</td>\n",
       "      <td>1.0</td>\n",
       "      <td>female</td>\n",
       "      <td>married</td>\n",
       "      <td>computer services</td>\n",
       "      <td>medium</td>\n",
       "      <td>0</td>\n",
       "      <td>0</td>\n",
       "      <td>1</td>\n",
       "      <td>2</td>\n",
       "    </tr>\n",
       "    <tr>\n",
       "      <th>1</th>\n",
       "      <td>37.0</td>\n",
       "      <td>8.0</td>\n",
       "      <td>1.0</td>\n",
       "      <td>0.379939</td>\n",
       "      <td>1.280</td>\n",
       "      <td>13.369863</td>\n",
       "      <td>26.0</td>\n",
       "      <td>0.801</td>\n",
       "      <td>3.22</td>\n",
       "      <td>9.7</td>\n",
       "      <td>1.0</td>\n",
       "      <td>female</td>\n",
       "      <td>married</td>\n",
       "      <td>human resources</td>\n",
       "      <td>low</td>\n",
       "      <td>0</td>\n",
       "      <td>0</td>\n",
       "      <td>3</td>\n",
       "      <td>1</td>\n",
       "    </tr>\n",
       "    <tr>\n",
       "      <th>2</th>\n",
       "      <td>36.0</td>\n",
       "      <td>6.0</td>\n",
       "      <td>1.0</td>\n",
       "      <td>0.303951</td>\n",
       "      <td>1.104</td>\n",
       "      <td>14.684932</td>\n",
       "      <td>29.0</td>\n",
       "      <td>0.382</td>\n",
       "      <td>3.11</td>\n",
       "      <td>9.8</td>\n",
       "      <td>1.0</td>\n",
       "      <td>male</td>\n",
       "      <td>married</td>\n",
       "      <td>finances</td>\n",
       "      <td>low</td>\n",
       "      <td>1</td>\n",
       "      <td>0</td>\n",
       "      <td>2</td>\n",
       "      <td>1</td>\n",
       "    </tr>\n",
       "    <tr>\n",
       "      <th>3</th>\n",
       "      <td>27.0</td>\n",
       "      <td>5.0</td>\n",
       "      <td>1.0</td>\n",
       "      <td>0.273556</td>\n",
       "      <td>0.624</td>\n",
       "      <td>11.506849</td>\n",
       "      <td>30.0</td>\n",
       "      <td>-0.005</td>\n",
       "      <td>3.48</td>\n",
       "      <td>12.5</td>\n",
       "      <td>1.0</td>\n",
       "      <td>male</td>\n",
       "      <td>together</td>\n",
       "      <td>computer services</td>\n",
       "      <td>medium</td>\n",
       "      <td>1</td>\n",
       "      <td>2</td>\n",
       "      <td>1</td>\n",
       "      <td>2</td>\n",
       "    </tr>\n",
       "    <tr>\n",
       "      <th>4</th>\n",
       "      <td>30.0</td>\n",
       "      <td>8.0</td>\n",
       "      <td>1.0</td>\n",
       "      <td>0.212766</td>\n",
       "      <td>2.272</td>\n",
       "      <td>7.561644</td>\n",
       "      <td>5.0</td>\n",
       "      <td>0.260</td>\n",
       "      <td>3.14</td>\n",
       "      <td>10.1</td>\n",
       "      <td>1.0</td>\n",
       "      <td>male</td>\n",
       "      <td>together</td>\n",
       "      <td>sales</td>\n",
       "      <td>low</td>\n",
       "      <td>1</td>\n",
       "      <td>2</td>\n",
       "      <td>5</td>\n",
       "      <td>1</td>\n",
       "    </tr>\n",
       "  </tbody>\n",
       "</table>\n",
       "</div>"
      ],
      "text/plain": [
       "    Age  Days_off  Rotations  Satis_leader  Satis_team     Tenure  Emails  \\\n",
       "0  38.0       6.0        1.0      0.364742       0.832   1.095890     4.0   \n",
       "1  37.0       8.0        1.0      0.379939       1.280  13.369863    26.0   \n",
       "2  36.0       6.0        1.0      0.303951       1.104  14.684932    29.0   \n",
       "3  27.0       5.0        1.0      0.273556       0.624  11.506849    30.0   \n",
       "4  30.0       8.0        1.0      0.212766       2.272   7.561644     5.0   \n",
       "\n",
       "   Bonus  Distance  Overtime  Kids  Gender Marital_status         Department  \\\n",
       "0  0.356      3.33      12.8   1.0  female        married  computer services   \n",
       "1  0.801      3.22       9.7   1.0  female        married    human resources   \n",
       "2  0.382      3.11       9.8   1.0    male        married           finances   \n",
       "3 -0.005      3.48      12.5   1.0    male       together  computer services   \n",
       "4  0.260      3.14      10.1   1.0    male       together              sales   \n",
       "\n",
       "  Churn_risk  DummyGender  encoded_Marital  encoded_Department  encoded_Churn  \n",
       "0     medium            0                0                   1              2  \n",
       "1        low            0                0                   3              1  \n",
       "2        low            1                0                   2              1  \n",
       "3     medium            1                2                   1              2  \n",
       "4        low            1                2                   5              1  "
      ]
     },
     "execution_count": 759,
     "metadata": {},
     "output_type": "execute_result"
    }
   ],
   "source": [
    "data.head()"
   ]
  },
  {
   "cell_type": "code",
   "execution_count": 760,
   "metadata": {},
   "outputs": [
    {
     "data": {
      "image/png": "[encoded data removed]",
      "text/plain": [
       "<Figure size 1080x1440 with 24 Axes>"
      ]
     },
     "metadata": {
      "needs_background": "light"
     },
     "output_type": "display_data"
    }
   ],
   "source": [
    "data_num = data.loc[:,[\"Age\",\"Days_off\",\"Rotations\",\"Satis_leader\",\"Satis_team\",\"Tenure\",\"Emails\",\"Bonus\",\"Distance\",\"Overtime\"]]\n",
    "\n",
    "data_num.hist(bins=15, figsize=(15, 20), layout=(8, 3), xlabelsize=8, ylabelsize=8);"
   ]
  },
  {
   "cell_type": "code",
   "execution_count": 761,
   "metadata": {},
   "outputs": [
    {
     "data": {
      "image/png": "[encoded data removed]",
      "text/plain": [
       "<Figure size 1440x1440 with 12 Axes>"
      ]
     },
     "metadata": {
      "needs_background": "light"
     },
     "output_type": "display_data"
    }
   ],
   "source": [
    "fig, ax = plt.subplots(3, 4, figsize=(20, 20))\n",
    "fig.tight_layout()\n",
    "for var, subplot in zip(data_num, ax.flatten()):\n",
    "    sns.boxplot(data_num[var], ax=subplot)"
   ]
  },
  {
   "cell_type": "code",
   "execution_count": 762,
   "metadata": {},
   "outputs": [
    {
     "data": {
      "text/html": [
       "<div>\n",
       "<style scoped>\n",
       "    .dataframe tbody tr th:only-of-type {\n",
       "        vertical-align: middle;\n",
       "    }\n",
       "\n",
       "    .dataframe tbody tr th {\n",
       "        vertical-align: top;\n",
       "    }\n",
       "\n",
       "    .dataframe thead th {\n",
       "        text-align: right;\n",
       "    }\n",
       "</style>\n",
       "<table border=\"1\" class=\"dataframe\">\n",
       "  <thead>\n",
       "    <tr style=\"text-align: right;\">\n",
       "      <th></th>\n",
       "      <th>Age</th>\n",
       "      <th>Days_off</th>\n",
       "      <th>Rotations</th>\n",
       "      <th>Satis_leader</th>\n",
       "      <th>Satis_team</th>\n",
       "      <th>Tenure</th>\n",
       "      <th>Emails</th>\n",
       "      <th>Bonus</th>\n",
       "      <th>Distance</th>\n",
       "      <th>Overtime</th>\n",
       "      <th>Kids</th>\n",
       "      <th>Gender</th>\n",
       "      <th>Marital_status</th>\n",
       "      <th>Department</th>\n",
       "      <th>Churn_risk</th>\n",
       "      <th>DummyGender</th>\n",
       "      <th>encoded_Marital</th>\n",
       "      <th>encoded_Department</th>\n",
       "      <th>encoded_Churn</th>\n",
       "    </tr>\n",
       "  </thead>\n",
       "  <tbody>\n",
       "    <tr>\n",
       "      <th>0</th>\n",
       "      <td>38.0</td>\n",
       "      <td>6.0</td>\n",
       "      <td>1.0</td>\n",
       "      <td>0.364742</td>\n",
       "      <td>0.832</td>\n",
       "      <td>1.095890</td>\n",
       "      <td>4.0</td>\n",
       "      <td>0.356</td>\n",
       "      <td>3.33</td>\n",
       "      <td>12.8</td>\n",
       "      <td>1.0</td>\n",
       "      <td>female</td>\n",
       "      <td>married</td>\n",
       "      <td>computer services</td>\n",
       "      <td>medium</td>\n",
       "      <td>0</td>\n",
       "      <td>0</td>\n",
       "      <td>1</td>\n",
       "      <td>2</td>\n",
       "    </tr>\n",
       "    <tr>\n",
       "      <th>1</th>\n",
       "      <td>37.0</td>\n",
       "      <td>8.0</td>\n",
       "      <td>1.0</td>\n",
       "      <td>0.379939</td>\n",
       "      <td>1.280</td>\n",
       "      <td>13.369863</td>\n",
       "      <td>26.0</td>\n",
       "      <td>0.801</td>\n",
       "      <td>3.22</td>\n",
       "      <td>9.7</td>\n",
       "      <td>1.0</td>\n",
       "      <td>female</td>\n",
       "      <td>married</td>\n",
       "      <td>human resources</td>\n",
       "      <td>low</td>\n",
       "      <td>0</td>\n",
       "      <td>0</td>\n",
       "      <td>3</td>\n",
       "      <td>1</td>\n",
       "    </tr>\n",
       "    <tr>\n",
       "      <th>2</th>\n",
       "      <td>36.0</td>\n",
       "      <td>6.0</td>\n",
       "      <td>1.0</td>\n",
       "      <td>0.303951</td>\n",
       "      <td>1.104</td>\n",
       "      <td>14.684932</td>\n",
       "      <td>29.0</td>\n",
       "      <td>0.382</td>\n",
       "      <td>3.11</td>\n",
       "      <td>9.8</td>\n",
       "      <td>1.0</td>\n",
       "      <td>male</td>\n",
       "      <td>married</td>\n",
       "      <td>finances</td>\n",
       "      <td>low</td>\n",
       "      <td>1</td>\n",
       "      <td>0</td>\n",
       "      <td>2</td>\n",
       "      <td>1</td>\n",
       "    </tr>\n",
       "    <tr>\n",
       "      <th>3</th>\n",
       "      <td>27.0</td>\n",
       "      <td>5.0</td>\n",
       "      <td>1.0</td>\n",
       "      <td>0.273556</td>\n",
       "      <td>0.624</td>\n",
       "      <td>11.506849</td>\n",
       "      <td>30.0</td>\n",
       "      <td>-0.005</td>\n",
       "      <td>3.48</td>\n",
       "      <td>12.5</td>\n",
       "      <td>1.0</td>\n",
       "      <td>male</td>\n",
       "      <td>together</td>\n",
       "      <td>computer services</td>\n",
       "      <td>medium</td>\n",
       "      <td>1</td>\n",
       "      <td>2</td>\n",
       "      <td>1</td>\n",
       "      <td>2</td>\n",
       "    </tr>\n",
       "    <tr>\n",
       "      <th>4</th>\n",
       "      <td>30.0</td>\n",
       "      <td>8.0</td>\n",
       "      <td>1.0</td>\n",
       "      <td>0.212766</td>\n",
       "      <td>2.272</td>\n",
       "      <td>7.561644</td>\n",
       "      <td>5.0</td>\n",
       "      <td>0.260</td>\n",
       "      <td>3.14</td>\n",
       "      <td>10.1</td>\n",
       "      <td>1.0</td>\n",
       "      <td>male</td>\n",
       "      <td>together</td>\n",
       "      <td>sales</td>\n",
       "      <td>low</td>\n",
       "      <td>1</td>\n",
       "      <td>2</td>\n",
       "      <td>5</td>\n",
       "      <td>1</td>\n",
       "    </tr>\n",
       "    <tr>\n",
       "      <th>...</th>\n",
       "      <td>...</td>\n",
       "      <td>...</td>\n",
       "      <td>...</td>\n",
       "      <td>...</td>\n",
       "      <td>...</td>\n",
       "      <td>...</td>\n",
       "      <td>...</td>\n",
       "      <td>...</td>\n",
       "      <td>...</td>\n",
       "      <td>...</td>\n",
       "      <td>...</td>\n",
       "      <td>...</td>\n",
       "      <td>...</td>\n",
       "      <td>...</td>\n",
       "      <td>...</td>\n",
       "      <td>...</td>\n",
       "      <td>...</td>\n",
       "      <td>...</td>\n",
       "      <td>...</td>\n",
       "    </tr>\n",
       "    <tr>\n",
       "      <th>5195</th>\n",
       "      <td>32.0</td>\n",
       "      <td>6.0</td>\n",
       "      <td>0.0</td>\n",
       "      <td>2.112462</td>\n",
       "      <td>0.752</td>\n",
       "      <td>17.753425</td>\n",
       "      <td>49.0</td>\n",
       "      <td>0.830</td>\n",
       "      <td>3.21</td>\n",
       "      <td>9.0</td>\n",
       "      <td>1.0</td>\n",
       "      <td>male</td>\n",
       "      <td>together</td>\n",
       "      <td>accounting</td>\n",
       "      <td>medium</td>\n",
       "      <td>1</td>\n",
       "      <td>2</td>\n",
       "      <td>0</td>\n",
       "      <td>2</td>\n",
       "    </tr>\n",
       "    <tr>\n",
       "      <th>5196</th>\n",
       "      <td>27.0</td>\n",
       "      <td>7.0</td>\n",
       "      <td>1.0</td>\n",
       "      <td>0.303951</td>\n",
       "      <td>0.480</td>\n",
       "      <td>15.561644</td>\n",
       "      <td>38.0</td>\n",
       "      <td>-0.108</td>\n",
       "      <td>3.40</td>\n",
       "      <td>12.9</td>\n",
       "      <td>0.0</td>\n",
       "      <td>male</td>\n",
       "      <td>together</td>\n",
       "      <td>human resources</td>\n",
       "      <td>medium</td>\n",
       "      <td>1</td>\n",
       "      <td>2</td>\n",
       "      <td>3</td>\n",
       "      <td>2</td>\n",
       "    </tr>\n",
       "    <tr>\n",
       "      <th>5197</th>\n",
       "      <td>32.0</td>\n",
       "      <td>6.0</td>\n",
       "      <td>1.0</td>\n",
       "      <td>1.215805</td>\n",
       "      <td>0.720</td>\n",
       "      <td>13.479452</td>\n",
       "      <td>28.0</td>\n",
       "      <td>0.280</td>\n",
       "      <td>3.02</td>\n",
       "      <td>11.4</td>\n",
       "      <td>0.0</td>\n",
       "      <td>male</td>\n",
       "      <td>together</td>\n",
       "      <td>human resources</td>\n",
       "      <td>medium</td>\n",
       "      <td>1</td>\n",
       "      <td>2</td>\n",
       "      <td>3</td>\n",
       "      <td>2</td>\n",
       "    </tr>\n",
       "    <tr>\n",
       "      <th>5198</th>\n",
       "      <td>28.0</td>\n",
       "      <td>5.0</td>\n",
       "      <td>1.0</td>\n",
       "      <td>1.018237</td>\n",
       "      <td>0.656</td>\n",
       "      <td>25.205479</td>\n",
       "      <td>61.0</td>\n",
       "      <td>0.505</td>\n",
       "      <td>3.12</td>\n",
       "      <td>8.9</td>\n",
       "      <td>0.0</td>\n",
       "      <td>male</td>\n",
       "      <td>together</td>\n",
       "      <td>sales</td>\n",
       "      <td>low</td>\n",
       "      <td>1</td>\n",
       "      <td>2</td>\n",
       "      <td>5</td>\n",
       "      <td>1</td>\n",
       "    </tr>\n",
       "    <tr>\n",
       "      <th>5199</th>\n",
       "      <td>32.0</td>\n",
       "      <td>14.0</td>\n",
       "      <td>0.0</td>\n",
       "      <td>0.851064</td>\n",
       "      <td>1.984</td>\n",
       "      <td>6.356164</td>\n",
       "      <td>21.0</td>\n",
       "      <td>0.970</td>\n",
       "      <td>3.46</td>\n",
       "      <td>10.2</td>\n",
       "      <td>1.0</td>\n",
       "      <td>female</td>\n",
       "      <td>together</td>\n",
       "      <td>marketing</td>\n",
       "      <td>low</td>\n",
       "      <td>0</td>\n",
       "      <td>2</td>\n",
       "      <td>4</td>\n",
       "      <td>1</td>\n",
       "    </tr>\n",
       "  </tbody>\n",
       "</table>\n",
       "<p>5200 rows × 19 columns</p>\n",
       "</div>"
      ],
      "text/plain": [
       "       Age  Days_off  Rotations  Satis_leader  Satis_team     Tenure  Emails  \\\n",
       "0     38.0       6.0        1.0      0.364742       0.832   1.095890     4.0   \n",
       "1     37.0       8.0        1.0      0.379939       1.280  13.369863    26.0   \n",
       "2     36.0       6.0        1.0      0.303951       1.104  14.684932    29.0   \n",
       "3     27.0       5.0        1.0      0.273556       0.624  11.506849    30.0   \n",
       "4     30.0       8.0        1.0      0.212766       2.272   7.561644     5.0   \n",
       "...    ...       ...        ...           ...         ...        ...     ...   \n",
       "5195  32.0       6.0        0.0      2.112462       0.752  17.753425    49.0   \n",
       "5196  27.0       7.0        1.0      0.303951       0.480  15.561644    38.0   \n",
       "5197  32.0       6.0        1.0      1.215805       0.720  13.479452    28.0   \n",
       "5198  28.0       5.0        1.0      1.018237       0.656  25.205479    61.0   \n",
       "5199  32.0      14.0        0.0      0.851064       1.984   6.356164    21.0   \n",
       "\n",
       "      Bonus  Distance  Overtime  Kids  Gender Marital_status  \\\n",
       "0     0.356      3.33      12.8   1.0  female        married   \n",
       "1     0.801      3.22       9.7   1.0  female        married   \n",
       "2     0.382      3.11       9.8   1.0    male        married   \n",
       "3    -0.005      3.48      12.5   1.0    male       together   \n",
       "4     0.260      3.14      10.1   1.0    male       together   \n",
       "...     ...       ...       ...   ...     ...            ...   \n",
       "5195  0.830      3.21       9.0   1.0    male       together   \n",
       "5196 -0.108      3.40      12.9   0.0    male       together   \n",
       "5197  0.280      3.02      11.4   0.0    male       together   \n",
       "5198  0.505      3.12       8.9   0.0    male       together   \n",
       "5199  0.970      3.46      10.2   1.0  female       together   \n",
       "\n",
       "             Department Churn_risk  DummyGender  encoded_Marital  \\\n",
       "0     computer services     medium            0                0   \n",
       "1       human resources        low            0                0   \n",
       "2              finances        low            1                0   \n",
       "3     computer services     medium            1                2   \n",
       "4                 sales        low            1                2   \n",
       "...                 ...        ...          ...              ...   \n",
       "5195         accounting     medium            1                2   \n",
       "5196    human resources     medium            1                2   \n",
       "5197    human resources     medium            1                2   \n",
       "5198              sales        low            1                2   \n",
       "5199          marketing        low            0                2   \n",
       "\n",
       "      encoded_Department  encoded_Churn  \n",
       "0                      1              2  \n",
       "1                      3              1  \n",
       "2                      2              1  \n",
       "3                      1              2  \n",
       "4                      5              1  \n",
       "...                  ...            ...  \n",
       "5195                   0              2  \n",
       "5196                   3              2  \n",
       "5197                   3              2  \n",
       "5198                   5              1  \n",
       "5199                   4              1  \n",
       "\n",
       "[5200 rows x 19 columns]"
      ]
     },
     "execution_count": 762,
     "metadata": {},
     "output_type": "execute_result"
    }
   ],
   "source": [
    "data"
   ]
  },
  {
   "cell_type": "code",
   "execution_count": 763,
   "metadata": {},
   "outputs": [],
   "source": [
    "data.drop(data[data.Days_off > 20].index , inplace=True)"
   ]
  },
  {
   "cell_type": "code",
   "execution_count": 764,
   "metadata": {},
   "outputs": [],
   "source": [
    "data.drop(data[data.Rotations >= 2.0].index , inplace=True)"
   ]
  },
  {
   "cell_type": "code",
   "execution_count": 765,
   "metadata": {},
   "outputs": [],
   "source": [
    "#data.drop(data[data.Satis_leader >= 2.5].index , inplace=True)"
   ]
  },
  {
   "cell_type": "code",
   "execution_count": 766,
   "metadata": {},
   "outputs": [],
   "source": [
    "#data.drop(data[data.Satis_team >= 1.3].index , inplace=True)"
   ]
  },
  {
   "cell_type": "code",
   "execution_count": 767,
   "metadata": {},
   "outputs": [],
   "source": [
    "data.drop(data[data.Emails >= 80].index , inplace=True)"
   ]
  },
  {
   "cell_type": "code",
   "execution_count": 768,
   "metadata": {},
   "outputs": [],
   "source": [
    "data.drop(data[data.Tenure >= 30].index , inplace=True)"
   ]
  },
  {
   "cell_type": "code",
   "execution_count": 769,
   "metadata": {},
   "outputs": [],
   "source": [
    "data.drop(data[(data.Distance >= 3.8) | (data.Distance <= 2.8)].index , inplace=True)"
   ]
  },
  {
   "cell_type": "code",
   "execution_count": 770,
   "metadata": {},
   "outputs": [],
   "source": [
    "data.drop(data[data.Overtime >= 14].index , inplace=True)"
   ]
  },
  {
   "cell_type": "code",
   "execution_count": 771,
   "metadata": {},
   "outputs": [
    {
     "data": {
      "text/html": [
       "<div>\n",
       "<style scoped>\n",
       "    .dataframe tbody tr th:only-of-type {\n",
       "        vertical-align: middle;\n",
       "    }\n",
       "\n",
       "    .dataframe tbody tr th {\n",
       "        vertical-align: top;\n",
       "    }\n",
       "\n",
       "    .dataframe thead th {\n",
       "        text-align: right;\n",
       "    }\n",
       "</style>\n",
       "<table border=\"1\" class=\"dataframe\">\n",
       "  <thead>\n",
       "    <tr style=\"text-align: right;\">\n",
       "      <th></th>\n",
       "      <th>Age</th>\n",
       "      <th>Days_off</th>\n",
       "      <th>Rotations</th>\n",
       "      <th>Satis_leader</th>\n",
       "      <th>Satis_team</th>\n",
       "      <th>Tenure</th>\n",
       "      <th>Emails</th>\n",
       "      <th>Bonus</th>\n",
       "      <th>Distance</th>\n",
       "      <th>Overtime</th>\n",
       "      <th>Kids</th>\n",
       "      <th>Gender</th>\n",
       "      <th>Marital_status</th>\n",
       "      <th>Department</th>\n",
       "      <th>Churn_risk</th>\n",
       "      <th>DummyGender</th>\n",
       "      <th>encoded_Marital</th>\n",
       "      <th>encoded_Department</th>\n",
       "      <th>encoded_Churn</th>\n",
       "    </tr>\n",
       "  </thead>\n",
       "  <tbody>\n",
       "    <tr>\n",
       "      <th>0</th>\n",
       "      <td>38.0</td>\n",
       "      <td>6.0</td>\n",
       "      <td>1.0</td>\n",
       "      <td>0.364742</td>\n",
       "      <td>0.832</td>\n",
       "      <td>1.095890</td>\n",
       "      <td>4.0</td>\n",
       "      <td>0.356</td>\n",
       "      <td>3.33</td>\n",
       "      <td>12.8</td>\n",
       "      <td>1.0</td>\n",
       "      <td>female</td>\n",
       "      <td>married</td>\n",
       "      <td>computer services</td>\n",
       "      <td>medium</td>\n",
       "      <td>0</td>\n",
       "      <td>0</td>\n",
       "      <td>1</td>\n",
       "      <td>2</td>\n",
       "    </tr>\n",
       "    <tr>\n",
       "      <th>1</th>\n",
       "      <td>37.0</td>\n",
       "      <td>8.0</td>\n",
       "      <td>1.0</td>\n",
       "      <td>0.379939</td>\n",
       "      <td>1.280</td>\n",
       "      <td>13.369863</td>\n",
       "      <td>26.0</td>\n",
       "      <td>0.801</td>\n",
       "      <td>3.22</td>\n",
       "      <td>9.7</td>\n",
       "      <td>1.0</td>\n",
       "      <td>female</td>\n",
       "      <td>married</td>\n",
       "      <td>human resources</td>\n",
       "      <td>low</td>\n",
       "      <td>0</td>\n",
       "      <td>0</td>\n",
       "      <td>3</td>\n",
       "      <td>1</td>\n",
       "    </tr>\n",
       "    <tr>\n",
       "      <th>2</th>\n",
       "      <td>36.0</td>\n",
       "      <td>6.0</td>\n",
       "      <td>1.0</td>\n",
       "      <td>0.303951</td>\n",
       "      <td>1.104</td>\n",
       "      <td>14.684932</td>\n",
       "      <td>29.0</td>\n",
       "      <td>0.382</td>\n",
       "      <td>3.11</td>\n",
       "      <td>9.8</td>\n",
       "      <td>1.0</td>\n",
       "      <td>male</td>\n",
       "      <td>married</td>\n",
       "      <td>finances</td>\n",
       "      <td>low</td>\n",
       "      <td>1</td>\n",
       "      <td>0</td>\n",
       "      <td>2</td>\n",
       "      <td>1</td>\n",
       "    </tr>\n",
       "    <tr>\n",
       "      <th>3</th>\n",
       "      <td>27.0</td>\n",
       "      <td>5.0</td>\n",
       "      <td>1.0</td>\n",
       "      <td>0.273556</td>\n",
       "      <td>0.624</td>\n",
       "      <td>11.506849</td>\n",
       "      <td>30.0</td>\n",
       "      <td>-0.005</td>\n",
       "      <td>3.48</td>\n",
       "      <td>12.5</td>\n",
       "      <td>1.0</td>\n",
       "      <td>male</td>\n",
       "      <td>together</td>\n",
       "      <td>computer services</td>\n",
       "      <td>medium</td>\n",
       "      <td>1</td>\n",
       "      <td>2</td>\n",
       "      <td>1</td>\n",
       "      <td>2</td>\n",
       "    </tr>\n",
       "    <tr>\n",
       "      <th>7</th>\n",
       "      <td>36.0</td>\n",
       "      <td>11.0</td>\n",
       "      <td>0.0</td>\n",
       "      <td>0.258359</td>\n",
       "      <td>1.216</td>\n",
       "      <td>3.397260</td>\n",
       "      <td>17.0</td>\n",
       "      <td>0.640</td>\n",
       "      <td>3.33</td>\n",
       "      <td>10.0</td>\n",
       "      <td>1.0</td>\n",
       "      <td>female</td>\n",
       "      <td>married</td>\n",
       "      <td>accounting</td>\n",
       "      <td>medium</td>\n",
       "      <td>0</td>\n",
       "      <td>0</td>\n",
       "      <td>0</td>\n",
       "      <td>2</td>\n",
       "    </tr>\n",
       "    <tr>\n",
       "      <th>...</th>\n",
       "      <td>...</td>\n",
       "      <td>...</td>\n",
       "      <td>...</td>\n",
       "      <td>...</td>\n",
       "      <td>...</td>\n",
       "      <td>...</td>\n",
       "      <td>...</td>\n",
       "      <td>...</td>\n",
       "      <td>...</td>\n",
       "      <td>...</td>\n",
       "      <td>...</td>\n",
       "      <td>...</td>\n",
       "      <td>...</td>\n",
       "      <td>...</td>\n",
       "      <td>...</td>\n",
       "      <td>...</td>\n",
       "      <td>...</td>\n",
       "      <td>...</td>\n",
       "      <td>...</td>\n",
       "    </tr>\n",
       "    <tr>\n",
       "      <th>5194</th>\n",
       "      <td>36.0</td>\n",
       "      <td>5.0</td>\n",
       "      <td>1.0</td>\n",
       "      <td>1.626140</td>\n",
       "      <td>0.608</td>\n",
       "      <td>20.383562</td>\n",
       "      <td>59.0</td>\n",
       "      <td>0.690</td>\n",
       "      <td>3.12</td>\n",
       "      <td>9.5</td>\n",
       "      <td>1.0</td>\n",
       "      <td>male</td>\n",
       "      <td>married</td>\n",
       "      <td>finances</td>\n",
       "      <td>medium</td>\n",
       "      <td>1</td>\n",
       "      <td>0</td>\n",
       "      <td>2</td>\n",
       "      <td>2</td>\n",
       "    </tr>\n",
       "    <tr>\n",
       "      <th>5195</th>\n",
       "      <td>32.0</td>\n",
       "      <td>6.0</td>\n",
       "      <td>0.0</td>\n",
       "      <td>2.112462</td>\n",
       "      <td>0.752</td>\n",
       "      <td>17.753425</td>\n",
       "      <td>49.0</td>\n",
       "      <td>0.830</td>\n",
       "      <td>3.21</td>\n",
       "      <td>9.0</td>\n",
       "      <td>1.0</td>\n",
       "      <td>male</td>\n",
       "      <td>together</td>\n",
       "      <td>accounting</td>\n",
       "      <td>medium</td>\n",
       "      <td>1</td>\n",
       "      <td>2</td>\n",
       "      <td>0</td>\n",
       "      <td>2</td>\n",
       "    </tr>\n",
       "    <tr>\n",
       "      <th>5196</th>\n",
       "      <td>27.0</td>\n",
       "      <td>7.0</td>\n",
       "      <td>1.0</td>\n",
       "      <td>0.303951</td>\n",
       "      <td>0.480</td>\n",
       "      <td>15.561644</td>\n",
       "      <td>38.0</td>\n",
       "      <td>-0.108</td>\n",
       "      <td>3.40</td>\n",
       "      <td>12.9</td>\n",
       "      <td>0.0</td>\n",
       "      <td>male</td>\n",
       "      <td>together</td>\n",
       "      <td>human resources</td>\n",
       "      <td>medium</td>\n",
       "      <td>1</td>\n",
       "      <td>2</td>\n",
       "      <td>3</td>\n",
       "      <td>2</td>\n",
       "    </tr>\n",
       "    <tr>\n",
       "      <th>5197</th>\n",
       "      <td>32.0</td>\n",
       "      <td>6.0</td>\n",
       "      <td>1.0</td>\n",
       "      <td>1.215805</td>\n",
       "      <td>0.720</td>\n",
       "      <td>13.479452</td>\n",
       "      <td>28.0</td>\n",
       "      <td>0.280</td>\n",
       "      <td>3.02</td>\n",
       "      <td>11.4</td>\n",
       "      <td>0.0</td>\n",
       "      <td>male</td>\n",
       "      <td>together</td>\n",
       "      <td>human resources</td>\n",
       "      <td>medium</td>\n",
       "      <td>1</td>\n",
       "      <td>2</td>\n",
       "      <td>3</td>\n",
       "      <td>2</td>\n",
       "    </tr>\n",
       "    <tr>\n",
       "      <th>5198</th>\n",
       "      <td>28.0</td>\n",
       "      <td>5.0</td>\n",
       "      <td>1.0</td>\n",
       "      <td>1.018237</td>\n",
       "      <td>0.656</td>\n",
       "      <td>25.205479</td>\n",
       "      <td>61.0</td>\n",
       "      <td>0.505</td>\n",
       "      <td>3.12</td>\n",
       "      <td>8.9</td>\n",
       "      <td>0.0</td>\n",
       "      <td>male</td>\n",
       "      <td>together</td>\n",
       "      <td>sales</td>\n",
       "      <td>low</td>\n",
       "      <td>1</td>\n",
       "      <td>2</td>\n",
       "      <td>5</td>\n",
       "      <td>1</td>\n",
       "    </tr>\n",
       "  </tbody>\n",
       "</table>\n",
       "<p>4221 rows × 19 columns</p>\n",
       "</div>"
      ],
      "text/plain": [
       "       Age  Days_off  Rotations  Satis_leader  Satis_team     Tenure  Emails  \\\n",
       "0     38.0       6.0        1.0      0.364742       0.832   1.095890     4.0   \n",
       "1     37.0       8.0        1.0      0.379939       1.280  13.369863    26.0   \n",
       "2     36.0       6.0        1.0      0.303951       1.104  14.684932    29.0   \n",
       "3     27.0       5.0        1.0      0.273556       0.624  11.506849    30.0   \n",
       "7     36.0      11.0        0.0      0.258359       1.216   3.397260    17.0   \n",
       "...    ...       ...        ...           ...         ...        ...     ...   \n",
       "5194  36.0       5.0        1.0      1.626140       0.608  20.383562    59.0   \n",
       "5195  32.0       6.0        0.0      2.112462       0.752  17.753425    49.0   \n",
       "5196  27.0       7.0        1.0      0.303951       0.480  15.561644    38.0   \n",
       "5197  32.0       6.0        1.0      1.215805       0.720  13.479452    28.0   \n",
       "5198  28.0       5.0        1.0      1.018237       0.656  25.205479    61.0   \n",
       "\n",
       "      Bonus  Distance  Overtime  Kids  Gender Marital_status  \\\n",
       "0     0.356      3.33      12.8   1.0  female        married   \n",
       "1     0.801      3.22       9.7   1.0  female        married   \n",
       "2     0.382      3.11       9.8   1.0    male        married   \n",
       "3    -0.005      3.48      12.5   1.0    male       together   \n",
       "7     0.640      3.33      10.0   1.0  female        married   \n",
       "...     ...       ...       ...   ...     ...            ...   \n",
       "5194  0.690      3.12       9.5   1.0    male        married   \n",
       "5195  0.830      3.21       9.0   1.0    male       together   \n",
       "5196 -0.108      3.40      12.9   0.0    male       together   \n",
       "5197  0.280      3.02      11.4   0.0    male       together   \n",
       "5198  0.505      3.12       8.9   0.0    male       together   \n",
       "\n",
       "             Department Churn_risk  DummyGender  encoded_Marital  \\\n",
       "0     computer services     medium            0                0   \n",
       "1       human resources        low            0                0   \n",
       "2              finances        low            1                0   \n",
       "3     computer services     medium            1                2   \n",
       "7            accounting     medium            0                0   \n",
       "...                 ...        ...          ...              ...   \n",
       "5194           finances     medium            1                0   \n",
       "5195         accounting     medium            1                2   \n",
       "5196    human resources     medium            1                2   \n",
       "5197    human resources     medium            1                2   \n",
       "5198              sales        low            1                2   \n",
       "\n",
       "      encoded_Department  encoded_Churn  \n",
       "0                      1              2  \n",
       "1                      3              1  \n",
       "2                      2              1  \n",
       "3                      1              2  \n",
       "7                      0              2  \n",
       "...                  ...            ...  \n",
       "5194                   2              2  \n",
       "5195                   0              2  \n",
       "5196                   3              2  \n",
       "5197                   3              2  \n",
       "5198                   5              1  \n",
       "\n",
       "[4221 rows x 19 columns]"
      ]
     },
     "execution_count": 771,
     "metadata": {},
     "output_type": "execute_result"
    }
   ],
   "source": [
    "data"
   ]
  },
  {
   "cell_type": "code",
   "execution_count": 772,
   "metadata": {},
   "outputs": [],
   "source": [
    "def medium_ratio (feature):\n",
    "    m = data[data.Churn_risk == \"medium\"][[feature,\"Churn_risk\"]].groupby([feature]).count()\n",
    "    l = data[data.Churn_risk == \"low\"][[feature,\"Churn_risk\"]].groupby([feature]).count()\n",
    "    h = data[data.Churn_risk == \"high\"][[feature,\"Churn_risk\"]].groupby([feature]).count()\n",
    "\n",
    "    can_ratio = pd.merge(left=can,right=ncan,on=feature,suffixes=('=1', '=0'))\n",
    "    can_ratio[\"cancelRatio\"]=can_ratio[\"IsCanceled=1\"]/(can_ratio[\"IsCanceled=0\"]+can_ratio[\"IsCanceled=1\"])\n",
    "    can_ratio.sort_values(by='cancelRatio')\n",
    "    return can_ratio"
   ]
  },
  {
   "cell_type": "code",
   "execution_count": 773,
   "metadata": {},
   "outputs": [
    {
     "data": {
      "image/png": "[encoded data removed]",
      "text/plain": [
       "<Figure size 1440x1440 with 9 Axes>"
      ]
     },
     "metadata": {
      "needs_background": "light"
     },
     "output_type": "display_data"
    }
   ],
   "source": [
    "data_num = data.loc[:,[\"Age\",\"Days_off\",\"Rotations\",\"Satis_leader\",\"Satis_team\",\"Tenure\",\"Emails\",\"Bonus\",\"Distance\",\"Overtime\"]]\n",
    "\n",
    "fig, ax = plt.subplots(3, 3, figsize=(20, 20))\n",
    "fig.tight_layout()\n",
    "for var, subplot in zip(data_num, ax.flatten()):\n",
    "    sns.boxplot(data_num[var], ax=subplot)"
   ]
  },
  {
   "cell_type": "code",
   "execution_count": 774,
   "metadata": {},
   "outputs": [
    {
     "data": {
      "text/plain": [
       "encoded_Churn         1.000000\n",
       "Overtime              0.206416\n",
       "Rotations             0.119381\n",
       "Kids                  0.058766\n",
       "DummyGender           0.041142\n",
       "Emails                0.033783\n",
       "encoded_Marital       0.014740\n",
       "Distance              0.011204\n",
       "encoded_Department   -0.015359\n",
       "Age                  -0.025742\n",
       "Satis_leader         -0.041411\n",
       "Tenure               -0.043404\n",
       "Satis_team           -0.114286\n",
       "Bonus                -0.152977\n",
       "Days_off             -0.184520\n",
       "Name: encoded_Churn, dtype: float64"
      ]
     },
     "execution_count": 774,
     "metadata": {},
     "output_type": "execute_result"
    }
   ],
   "source": [
    "data.corr()[\"encoded_Churn\"].sort_values(ascending = False )"
   ]
  },
  {
   "cell_type": "code",
   "execution_count": 775,
   "metadata": {},
   "outputs": [
    {
     "name": "stdout",
     "output_type": "stream",
     "text": [
      "Index(['Age', 'Days_off', 'Rotations', 'Satis_leader', 'Satis_team', 'Tenure',\n",
      "       'Emails', 'Bonus', 'Distance', 'Overtime', 'DummyGender', 'Kids',\n",
      "       'encoded_Marital', 'encoded_Department'],\n",
      "      dtype='object')\n"
     ]
    },
    {
     "data": {
      "text/html": [
       "<div>\n",
       "<style scoped>\n",
       "    .dataframe tbody tr th:only-of-type {\n",
       "        vertical-align: middle;\n",
       "    }\n",
       "\n",
       "    .dataframe tbody tr th {\n",
       "        vertical-align: top;\n",
       "    }\n",
       "\n",
       "    .dataframe thead th {\n",
       "        text-align: right;\n",
       "    }\n",
       "</style>\n",
       "<table border=\"1\" class=\"dataframe\">\n",
       "  <thead>\n",
       "    <tr style=\"text-align: right;\">\n",
       "      <th></th>\n",
       "      <th>Age</th>\n",
       "      <th>Days_off</th>\n",
       "      <th>Rotations</th>\n",
       "      <th>Satis_leader</th>\n",
       "      <th>Satis_team</th>\n",
       "      <th>Tenure</th>\n",
       "      <th>Emails</th>\n",
       "      <th>Bonus</th>\n",
       "      <th>Distance</th>\n",
       "      <th>Overtime</th>\n",
       "      <th>DummyGender</th>\n",
       "      <th>Kids</th>\n",
       "      <th>encoded_Marital</th>\n",
       "      <th>encoded_Department</th>\n",
       "    </tr>\n",
       "  </thead>\n",
       "  <tbody>\n",
       "    <tr>\n",
       "      <th>0</th>\n",
       "      <td>38.0</td>\n",
       "      <td>6.0</td>\n",
       "      <td>1.0</td>\n",
       "      <td>0.364742</td>\n",
       "      <td>0.832</td>\n",
       "      <td>1.095890</td>\n",
       "      <td>4.0</td>\n",
       "      <td>0.356</td>\n",
       "      <td>3.33</td>\n",
       "      <td>12.8</td>\n",
       "      <td>0</td>\n",
       "      <td>1.0</td>\n",
       "      <td>0</td>\n",
       "      <td>1</td>\n",
       "    </tr>\n",
       "    <tr>\n",
       "      <th>1</th>\n",
       "      <td>37.0</td>\n",
       "      <td>8.0</td>\n",
       "      <td>1.0</td>\n",
       "      <td>0.379939</td>\n",
       "      <td>1.280</td>\n",
       "      <td>13.369863</td>\n",
       "      <td>26.0</td>\n",
       "      <td>0.801</td>\n",
       "      <td>3.22</td>\n",
       "      <td>9.7</td>\n",
       "      <td>0</td>\n",
       "      <td>1.0</td>\n",
       "      <td>0</td>\n",
       "      <td>3</td>\n",
       "    </tr>\n",
       "    <tr>\n",
       "      <th>2</th>\n",
       "      <td>36.0</td>\n",
       "      <td>6.0</td>\n",
       "      <td>1.0</td>\n",
       "      <td>0.303951</td>\n",
       "      <td>1.104</td>\n",
       "      <td>14.684932</td>\n",
       "      <td>29.0</td>\n",
       "      <td>0.382</td>\n",
       "      <td>3.11</td>\n",
       "      <td>9.8</td>\n",
       "      <td>1</td>\n",
       "      <td>1.0</td>\n",
       "      <td>0</td>\n",
       "      <td>2</td>\n",
       "    </tr>\n",
       "    <tr>\n",
       "      <th>3</th>\n",
       "      <td>27.0</td>\n",
       "      <td>5.0</td>\n",
       "      <td>1.0</td>\n",
       "      <td>0.273556</td>\n",
       "      <td>0.624</td>\n",
       "      <td>11.506849</td>\n",
       "      <td>30.0</td>\n",
       "      <td>-0.005</td>\n",
       "      <td>3.48</td>\n",
       "      <td>12.5</td>\n",
       "      <td>1</td>\n",
       "      <td>1.0</td>\n",
       "      <td>2</td>\n",
       "      <td>1</td>\n",
       "    </tr>\n",
       "    <tr>\n",
       "      <th>7</th>\n",
       "      <td>36.0</td>\n",
       "      <td>11.0</td>\n",
       "      <td>0.0</td>\n",
       "      <td>0.258359</td>\n",
       "      <td>1.216</td>\n",
       "      <td>3.397260</td>\n",
       "      <td>17.0</td>\n",
       "      <td>0.640</td>\n",
       "      <td>3.33</td>\n",
       "      <td>10.0</td>\n",
       "      <td>0</td>\n",
       "      <td>1.0</td>\n",
       "      <td>0</td>\n",
       "      <td>0</td>\n",
       "    </tr>\n",
       "    <tr>\n",
       "      <th>...</th>\n",
       "      <td>...</td>\n",
       "      <td>...</td>\n",
       "      <td>...</td>\n",
       "      <td>...</td>\n",
       "      <td>...</td>\n",
       "      <td>...</td>\n",
       "      <td>...</td>\n",
       "      <td>...</td>\n",
       "      <td>...</td>\n",
       "      <td>...</td>\n",
       "      <td>...</td>\n",
       "      <td>...</td>\n",
       "      <td>...</td>\n",
       "      <td>...</td>\n",
       "    </tr>\n",
       "    <tr>\n",
       "      <th>5194</th>\n",
       "      <td>36.0</td>\n",
       "      <td>5.0</td>\n",
       "      <td>1.0</td>\n",
       "      <td>1.626140</td>\n",
       "      <td>0.608</td>\n",
       "      <td>20.383562</td>\n",
       "      <td>59.0</td>\n",
       "      <td>0.690</td>\n",
       "      <td>3.12</td>\n",
       "      <td>9.5</td>\n",
       "      <td>1</td>\n",
       "      <td>1.0</td>\n",
       "      <td>0</td>\n",
       "      <td>2</td>\n",
       "    </tr>\n",
       "    <tr>\n",
       "      <th>5195</th>\n",
       "      <td>32.0</td>\n",
       "      <td>6.0</td>\n",
       "      <td>0.0</td>\n",
       "      <td>2.112462</td>\n",
       "      <td>0.752</td>\n",
       "      <td>17.753425</td>\n",
       "      <td>49.0</td>\n",
       "      <td>0.830</td>\n",
       "      <td>3.21</td>\n",
       "      <td>9.0</td>\n",
       "      <td>1</td>\n",
       "      <td>1.0</td>\n",
       "      <td>2</td>\n",
       "      <td>0</td>\n",
       "    </tr>\n",
       "    <tr>\n",
       "      <th>5196</th>\n",
       "      <td>27.0</td>\n",
       "      <td>7.0</td>\n",
       "      <td>1.0</td>\n",
       "      <td>0.303951</td>\n",
       "      <td>0.480</td>\n",
       "      <td>15.561644</td>\n",
       "      <td>38.0</td>\n",
       "      <td>-0.108</td>\n",
       "      <td>3.40</td>\n",
       "      <td>12.9</td>\n",
       "      <td>1</td>\n",
       "      <td>0.0</td>\n",
       "      <td>2</td>\n",
       "      <td>3</td>\n",
       "    </tr>\n",
       "    <tr>\n",
       "      <th>5197</th>\n",
       "      <td>32.0</td>\n",
       "      <td>6.0</td>\n",
       "      <td>1.0</td>\n",
       "      <td>1.215805</td>\n",
       "      <td>0.720</td>\n",
       "      <td>13.479452</td>\n",
       "      <td>28.0</td>\n",
       "      <td>0.280</td>\n",
       "      <td>3.02</td>\n",
       "      <td>11.4</td>\n",
       "      <td>1</td>\n",
       "      <td>0.0</td>\n",
       "      <td>2</td>\n",
       "      <td>3</td>\n",
       "    </tr>\n",
       "    <tr>\n",
       "      <th>5198</th>\n",
       "      <td>28.0</td>\n",
       "      <td>5.0</td>\n",
       "      <td>1.0</td>\n",
       "      <td>1.018237</td>\n",
       "      <td>0.656</td>\n",
       "      <td>25.205479</td>\n",
       "      <td>61.0</td>\n",
       "      <td>0.505</td>\n",
       "      <td>3.12</td>\n",
       "      <td>8.9</td>\n",
       "      <td>1</td>\n",
       "      <td>0.0</td>\n",
       "      <td>2</td>\n",
       "      <td>5</td>\n",
       "    </tr>\n",
       "  </tbody>\n",
       "</table>\n",
       "<p>4221 rows × 14 columns</p>\n",
       "</div>"
      ],
      "text/plain": [
       "       Age  Days_off  Rotations  Satis_leader  Satis_team     Tenure  Emails  \\\n",
       "0     38.0       6.0        1.0      0.364742       0.832   1.095890     4.0   \n",
       "1     37.0       8.0        1.0      0.379939       1.280  13.369863    26.0   \n",
       "2     36.0       6.0        1.0      0.303951       1.104  14.684932    29.0   \n",
       "3     27.0       5.0        1.0      0.273556       0.624  11.506849    30.0   \n",
       "7     36.0      11.0        0.0      0.258359       1.216   3.397260    17.0   \n",
       "...    ...       ...        ...           ...         ...        ...     ...   \n",
       "5194  36.0       5.0        1.0      1.626140       0.608  20.383562    59.0   \n",
       "5195  32.0       6.0        0.0      2.112462       0.752  17.753425    49.0   \n",
       "5196  27.0       7.0        1.0      0.303951       0.480  15.561644    38.0   \n",
       "5197  32.0       6.0        1.0      1.215805       0.720  13.479452    28.0   \n",
       "5198  28.0       5.0        1.0      1.018237       0.656  25.205479    61.0   \n",
       "\n",
       "      Bonus  Distance  Overtime  DummyGender  Kids  encoded_Marital  \\\n",
       "0     0.356      3.33      12.8            0   1.0                0   \n",
       "1     0.801      3.22       9.7            0   1.0                0   \n",
       "2     0.382      3.11       9.8            1   1.0                0   \n",
       "3    -0.005      3.48      12.5            1   1.0                2   \n",
       "7     0.640      3.33      10.0            0   1.0                0   \n",
       "...     ...       ...       ...          ...   ...              ...   \n",
       "5194  0.690      3.12       9.5            1   1.0                0   \n",
       "5195  0.830      3.21       9.0            1   1.0                2   \n",
       "5196 -0.108      3.40      12.9            1   0.0                2   \n",
       "5197  0.280      3.02      11.4            1   0.0                2   \n",
       "5198  0.505      3.12       8.9            1   0.0                2   \n",
       "\n",
       "      encoded_Department  \n",
       "0                      1  \n",
       "1                      3  \n",
       "2                      2  \n",
       "3                      1  \n",
       "7                      0  \n",
       "...                  ...  \n",
       "5194                   2  \n",
       "5195                   0  \n",
       "5196                   3  \n",
       "5197                   3  \n",
       "5198                   5  \n",
       "\n",
       "[4221 rows x 14 columns]"
      ]
     },
     "execution_count": 775,
     "metadata": {},
     "output_type": "execute_result"
    }
   ],
   "source": [
    "dt = pd.concat([data_num, (data.loc[:,[\"DummyGender\",\"Kids\",\"encoded_Marital\",\"encoded_Department\"]])], axis=1)\n",
    "target = data.iloc[:,-1]\n",
    "\n",
    "print(dt.columns)\n",
    "data.columns\n",
    "dt"
   ]
  },
  {
   "cell_type": "code",
   "execution_count": 776,
   "metadata": {},
   "outputs": [
    {
     "data": {
      "text/plain": [
       "LinearRegression(copy_X=True, fit_intercept=True, n_jobs=None, normalize=False)"
      ]
     },
     "execution_count": 776,
     "metadata": {},
     "output_type": "execute_result"
    }
   ],
   "source": [
    "model = LinearRegression()\n",
    "rfe = RFE(estimator = model)\n",
    "X_rfe = rfe.fit_transform(X = dt, y = target) \n",
    "model.fit(X = X_rfe,y = target)"
   ]
  },
  {
   "cell_type": "code",
   "execution_count": 777,
   "metadata": {},
   "outputs": [
    {
     "data": {
      "text/plain": [
       "array([False,  True, False,  True, False, False, False,  True,  True,\n",
       "        True,  True,  True, False, False])"
      ]
     },
     "execution_count": 777,
     "metadata": {},
     "output_type": "execute_result"
    }
   ],
   "source": [
    "rfe.support_"
   ]
  },
  {
   "cell_type": "code",
   "execution_count": 778,
   "metadata": {},
   "outputs": [
    {
     "data": {
      "text/plain": [
       "array([5, 1, 3, 1, 2, 6, 7, 1, 1, 1, 1, 1, 8, 4])"
      ]
     },
     "execution_count": 778,
     "metadata": {},
     "output_type": "execute_result"
    }
   ],
   "source": [
    "rfe.ranking_"
   ]
  },
  {
   "cell_type": "code",
   "execution_count": 779,
   "metadata": {},
   "outputs": [
    {
     "data": {
      "text/plain": [
       "Age                   False\n",
       "Days_off               True\n",
       "Rotations             False\n",
       "Satis_leader           True\n",
       "Satis_team            False\n",
       "Tenure                False\n",
       "Emails                False\n",
       "Bonus                  True\n",
       "Distance               True\n",
       "Overtime               True\n",
       "DummyGender            True\n",
       "Kids                   True\n",
       "encoded_Marital       False\n",
       "encoded_Department    False\n",
       "dtype: bool"
      ]
     },
     "execution_count": 779,
     "metadata": {},
     "output_type": "execute_result"
    }
   ],
   "source": [
    "selected_features = pd.Series(rfe.support_, index = dt.columns)\n",
    "selected_features"
   ]
  },
  {
   "cell_type": "code",
   "execution_count": 789,
   "metadata": {},
   "outputs": [],
   "source": [
    "scaler = StandardScaler()\n",
    "#data[\"Satis_team\"] = data[\"Satis_team\"].apply(np.log)\n",
    "#data[\"Satis_leader\"] = data[\"Satis_team\"].apply(np.log)\n",
    "data_norm = pd.DataFrame(scaler.fit_transform(data_num), columns=data_num.columns)"
   ]
  },
  {
   "cell_type": "code",
   "execution_count": 790,
   "metadata": {},
   "outputs": [],
   "source": [
    "df = pd.concat([data_norm.loc[:,[\"Days_off\",\"Satis_leader\",\"Bonus\",\"Distance\",\"Overtime\"]], (data.loc[:,[\"DummyGender\",\"Kids\"]]).reset_index(drop=True)], axis=1)\n",
    "target = data[\"encoded_Churn\"]"
   ]
  },
  {
   "cell_type": "code",
   "execution_count": 791,
   "metadata": {},
   "outputs": [],
   "source": [
    "X_train, X_val, y_train, y_val = train_test_split(df, target, test_size=0.25, random_state=5)"
   ]
  },
  {
   "cell_type": "code",
   "execution_count": 792,
   "metadata": {},
   "outputs": [],
   "source": [
    "log_model = LogisticRegression()"
   ]
  },
  {
   "cell_type": "code",
   "execution_count": 793,
   "metadata": {},
   "outputs": [
    {
     "data": {
      "text/plain": [
       "LogisticRegression(C=1.0, class_weight=None, dual=False, fit_intercept=True,\n",
       "                   intercept_scaling=1, l1_ratio=None, max_iter=100,\n",
       "                   multi_class='auto', n_jobs=None, penalty='l2',\n",
       "                   random_state=None, solver='lbfgs', tol=0.0001, verbose=0,\n",
       "                   warm_start=False)"
      ]
     },
     "execution_count": 793,
     "metadata": {},
     "output_type": "execute_result"
    }
   ],
   "source": [
    "log_model.fit(X_train,y_train)"
   ]
  },
  {
   "cell_type": "code",
   "execution_count": 794,
   "metadata": {},
   "outputs": [
    {
     "data": {
      "text/plain": [
       "array([2, 1, 2, ..., 2, 1, 2])"
      ]
     },
     "execution_count": 794,
     "metadata": {},
     "output_type": "execute_result"
    }
   ],
   "source": [
    "y_pred = log_model.predict(X_val)\n",
    "y_pred"
   ]
  },
  {
   "cell_type": "code",
   "execution_count": 795,
   "metadata": {},
   "outputs": [
    {
     "data": {
      "text/plain": [
       "array([[0.01632725, 0.33463461, 0.64903813],\n",
       "       [0.00414298, 0.79591954, 0.19993748],\n",
       "       [0.14584403, 0.02047815, 0.83367783],\n",
       "       ...,\n",
       "       [0.09550843, 0.0414294 , 0.86306217],\n",
       "       [0.00459128, 0.68145373, 0.31395499],\n",
       "       [0.05339696, 0.06004365, 0.88655939]])"
      ]
     },
     "execution_count": 795,
     "metadata": {},
     "output_type": "execute_result"
    }
   ],
   "source": [
    "pred_prob = log_model.predict_proba(X_val)\n",
    "pred_prob"
   ]
  },
  {
   "cell_type": "code",
   "execution_count": 796,
   "metadata": {},
   "outputs": [
    {
     "data": {
      "text/plain": [
       "0.7168560606060606"
      ]
     },
     "execution_count": 796,
     "metadata": {},
     "output_type": "execute_result"
    }
   ],
   "source": [
    "accuracy_score(y_val, y_pred)"
   ]
  },
  {
   "cell_type": "code",
   "execution_count": 797,
   "metadata": {},
   "outputs": [
    {
     "data": {
      "text/plain": [
       "0.7168560606060606"
      ]
     },
     "execution_count": 797,
     "metadata": {},
     "output_type": "execute_result"
    }
   ],
   "source": [
    "f1_score(y_val, y_pred, average=\"micro\")"
   ]
  },
  {
   "cell_type": "markdown",
   "metadata": {},
   "source": [
    "# Test"
   ]
  },
  {
   "cell_type": "code",
   "execution_count": 682,
   "metadata": {},
   "outputs": [
    {
     "data": {
      "text/plain": [
       "Index(['Age', 'Days_off', 'Rotations', 'Satis_leader', 'Satis_team', 'Tenure',\n",
       "       'Emails', 'Bonus', 'Distance', 'Kids', 'Overtime', 'Employee_ID',\n",
       "       'Gender', 'Marital_status', 'Department', 'DummyGender',\n",
       "       'encoded_Marital', 'encoded_Department'],\n",
       "      dtype='object')"
      ]
     },
     "execution_count": 682,
     "metadata": {},
     "output_type": "execute_result"
    }
   ],
   "source": [
    "test = pd.read_csv('test.csv')\n",
    "\n",
    "test_num = test.loc[:,[\"Age\",\"Days_off\",\"Rotations\",\"Satis_leader\",\"Satis_team\",\"Tenure\",\"Emails\",\"Bonus\",\"Distance\",\"Kids\",\"Overtime\"]]\n",
    "\n",
    "test_filled = pd.DataFrame(imputer.fit_transform(test_num), columns=[\"Age\",\"Days_off\",\"Rotations\",\"Satis_leader\",\"Satis_team\",\"Tenure\",\"Emails\",\"Bonus\",\"Distance\",\"Kids\",\"Overtime\"])\n",
    "\n",
    "test = pd.concat([test_filled, (test.loc[:,[\"Employee_ID\",\"Gender\",\"Marital_status\",\"Department\"]]).reset_index(drop=True)], axis=1)\n",
    "\n",
    "test_num = test.loc[:,[\"Age\",\"Days_off\",\"Rotations\",\"Satis_leader\",\"Satis_team\",\"Tenure\",\"Emails\",\"Bonus\",\"Distance\",\"Overtime\"]]\n",
    "\n",
    "test[\"DummyGender\"] = test.Gender.apply(lambda x: 1 if x==\"male\" else 0) #Male = 1 , Female = 0\n",
    "\n",
    "le2 = preprocessing.LabelEncoder()\n",
    "le2.fit(test['Marital_status'])\n",
    "test[\"encoded_Marital\"] = le2.transform(test['Marital_status'])\n",
    "\n",
    "le2 = preprocessing.LabelEncoder()\n",
    "le2.fit(test['Department'])\n",
    "test[\"encoded_Department\"] = le2.transform(test['Department'])\n",
    "\n",
    "\n",
    "scaler = StandardScaler()\n",
    "test_norm = pd.DataFrame(scaler.fit_transform(test_num), columns=test_num.columns)\n",
    "\n",
    "df_test = pd.concat([test_norm.loc[:,[\"Days_off\",\"Satis_leader\",\"Bonus\",\"Distance\",\"Overtime\"]], (test.loc[:,[\"DummyGender\",\"Kids\"]]).reset_index(drop=True)], axis=1)\n",
    "test.columns"
   ]
  },
  {
   "cell_type": "code",
   "execution_count": 686,
   "metadata": {},
   "outputs": [],
   "source": [
    "labels_test = log_model.predict(df_test)\n",
    "le.inverse_transform(labels_test)\n",
    "\n",
    "test[\"Churn_risk\"] = le.inverse_transform(labels_test)\n",
    "\n",
    "csv = test.iloc[:,[11,-1]]\n",
    "csv.to_csv('m20190932_versionSS2Out.csv',index=False)"
   ]
  },
  {
   "cell_type": "code",
   "execution_count": 687,
   "metadata": {},
   "outputs": [
    {
     "data": {
      "text/html": [
       "<div>\n",
       "<style scoped>\n",
       "    .dataframe tbody tr th:only-of-type {\n",
       "        vertical-align: middle;\n",
       "    }\n",
       "\n",
       "    .dataframe tbody tr th {\n",
       "        vertical-align: top;\n",
       "    }\n",
       "\n",
       "    .dataframe thead th {\n",
       "        text-align: right;\n",
       "    }\n",
       "</style>\n",
       "<table border=\"1\" class=\"dataframe\">\n",
       "  <thead>\n",
       "    <tr style=\"text-align: right;\">\n",
       "      <th></th>\n",
       "      <th>Employee_ID</th>\n",
       "      <th>Churn_risk</th>\n",
       "    </tr>\n",
       "  </thead>\n",
       "  <tbody>\n",
       "    <tr>\n",
       "      <th>0</th>\n",
       "      <td>1005201</td>\n",
       "      <td>low</td>\n",
       "    </tr>\n",
       "    <tr>\n",
       "      <th>1</th>\n",
       "      <td>1005202</td>\n",
       "      <td>medium</td>\n",
       "    </tr>\n",
       "    <tr>\n",
       "      <th>2</th>\n",
       "      <td>1005203</td>\n",
       "      <td>medium</td>\n",
       "    </tr>\n",
       "    <tr>\n",
       "      <th>3</th>\n",
       "      <td>1005204</td>\n",
       "      <td>medium</td>\n",
       "    </tr>\n",
       "    <tr>\n",
       "      <th>4</th>\n",
       "      <td>1005205</td>\n",
       "      <td>medium</td>\n",
       "    </tr>\n",
       "    <tr>\n",
       "      <th>...</th>\n",
       "      <td>...</td>\n",
       "      <td>...</td>\n",
       "    </tr>\n",
       "    <tr>\n",
       "      <th>1295</th>\n",
       "      <td>1006496</td>\n",
       "      <td>medium</td>\n",
       "    </tr>\n",
       "    <tr>\n",
       "      <th>1296</th>\n",
       "      <td>1006497</td>\n",
       "      <td>medium</td>\n",
       "    </tr>\n",
       "    <tr>\n",
       "      <th>1297</th>\n",
       "      <td>1006498</td>\n",
       "      <td>medium</td>\n",
       "    </tr>\n",
       "    <tr>\n",
       "      <th>1298</th>\n",
       "      <td>1006499</td>\n",
       "      <td>low</td>\n",
       "    </tr>\n",
       "    <tr>\n",
       "      <th>1299</th>\n",
       "      <td>1006500</td>\n",
       "      <td>medium</td>\n",
       "    </tr>\n",
       "  </tbody>\n",
       "</table>\n",
       "<p>1300 rows × 2 columns</p>\n",
       "</div>"
      ],
      "text/plain": [
       "      Employee_ID Churn_risk\n",
       "0         1005201        low\n",
       "1         1005202     medium\n",
       "2         1005203     medium\n",
       "3         1005204     medium\n",
       "4         1005205     medium\n",
       "...           ...        ...\n",
       "1295      1006496     medium\n",
       "1296      1006497     medium\n",
       "1297      1006498     medium\n",
       "1298      1006499        low\n",
       "1299      1006500     medium\n",
       "\n",
       "[1300 rows x 2 columns]"
      ]
     },
     "execution_count": 687,
     "metadata": {},
     "output_type": "execute_result"
    }
   ],
   "source": [
    "a = pd.read_csv('m20190932_versionSS2Out.csv')\n",
    "a"
   ]
  },
  {
   "cell_type": "code",
   "execution_count": 688,
   "metadata": {},
   "outputs": [
    {
     "data": {
      "application/vnd.plotly.v1+json": {
       "config": {
        "plotlyServerURL": "https://plot.ly"
       },
       "data": [
        {
         "labels": [
          "Medium",
          "Low",
          "High"
         ],
         "type": "pie",
         "values": [
          1017,
          283,
          0
         ]
        }
       ],
       "layout": {
        "height": 300,
        "template": {
         "data": {
          "bar": [
           {
            "error_x": {
             "color": "#2a3f5f"
            },
            "error_y": {
             "color": "#2a3f5f"
            },
            "marker": {
             "line": {
              "color": "#E5ECF6",
              "width": 0.5
             }
            },
            "type": "bar"
           }
          ],
          "barpolar": [
           {
            "marker": {
             "line": {
              "color": "#E5ECF6",
              "width": 0.5
             }
            },
            "type": "barpolar"
           }
          ],
          "carpet": [
           {
            "aaxis": {
             "endlinecolor": "#2a3f5f",
             "gridcolor": "white",
             "linecolor": "white",
             "minorgridcolor": "white",
             "startlinecolor": "#2a3f5f"
            },
            "baxis": {
             "endlinecolor": "#2a3f5f",
             "gridcolor": "white",
             "linecolor": "white",
             "minorgridcolor": "white",
             "startlinecolor": "#2a3f5f"
            },
            "type": "carpet"
           }
          ],
          "choropleth": [
           {
            "colorbar": {
             "outlinewidth": 0,
             "ticks": ""
            },
            "type": "choropleth"
           }
          ],
          "contour": [
           {
            "colorbar": {
             "outlinewidth": 0,
             "ticks": ""
            },
            "colorscale": [
             [
              0,
              "#0d0887"
             ],
             [
              0.1111111111111111,
              "#46039f"
             ],
             [
              0.2222222222222222,
              "#7201a8"
             ],
             [
              0.3333333333333333,
              "#9c179e"
             ],
             [
              0.4444444444444444,
              "#bd3786"
             ],
             [
              0.5555555555555556,
              "#d8576b"
             ],
             [
              0.6666666666666666,
              "#ed7953"
             ],
             [
              0.7777777777777778,
              "#fb9f3a"
             ],
             [
              0.8888888888888888,
              "#fdca26"
             ],
             [
              1,
              "#f0f921"
             ]
            ],
            "type": "contour"
           }
          ],
          "contourcarpet": [
           {
            "colorbar": {
             "outlinewidth": 0,
             "ticks": ""
            },
            "type": "contourcarpet"
           }
          ],
          "heatmap": [
           {
            "colorbar": {
             "outlinewidth": 0,
             "ticks": ""
            },
            "colorscale": [
             [
              0,
              "#0d0887"
             ],
             [
              0.1111111111111111,
              "#46039f"
             ],
             [
              0.2222222222222222,
              "#7201a8"
             ],
             [
              0.3333333333333333,
              "#9c179e"
             ],
             [
              0.4444444444444444,
              "#bd3786"
             ],
             [
              0.5555555555555556,
              "#d8576b"
             ],
             [
              0.6666666666666666,
              "#ed7953"
             ],
             [
              0.7777777777777778,
              "#fb9f3a"
             ],
             [
              0.8888888888888888,
              "#fdca26"
             ],
             [
              1,
              "#f0f921"
             ]
            ],
            "type": "heatmap"
           }
          ],
          "heatmapgl": [
           {
            "colorbar": {
             "outlinewidth": 0,
             "ticks": ""
            },
            "colorscale": [
             [
              0,
              "#0d0887"
             ],
             [
              0.1111111111111111,
              "#46039f"
             ],
             [
              0.2222222222222222,
              "#7201a8"
             ],
             [
              0.3333333333333333,
              "#9c179e"
             ],
             [
              0.4444444444444444,
              "#bd3786"
             ],
             [
              0.5555555555555556,
              "#d8576b"
             ],
             [
              0.6666666666666666,
              "#ed7953"
             ],
             [
              0.7777777777777778,
              "#fb9f3a"
             ],
             [
              0.8888888888888888,
              "#fdca26"
             ],
             [
              1,
              "#f0f921"
             ]
            ],
            "type": "heatmapgl"
           }
          ],
          "histogram": [
           {
            "marker": {
             "colorbar": {
              "outlinewidth": 0,
              "ticks": ""
             }
            },
            "type": "histogram"
           }
          ],
          "histogram2d": [
           {
            "colorbar": {
             "outlinewidth": 0,
             "ticks": ""
            },
            "colorscale": [
             [
              0,
              "#0d0887"
             ],
             [
              0.1111111111111111,
              "#46039f"
             ],
             [
              0.2222222222222222,
              "#7201a8"
             ],
             [
              0.3333333333333333,
              "#9c179e"
             ],
             [
              0.4444444444444444,
              "#bd3786"
             ],
             [
              0.5555555555555556,
              "#d8576b"
             ],
             [
              0.6666666666666666,
              "#ed7953"
             ],
             [
              0.7777777777777778,
              "#fb9f3a"
             ],
             [
              0.8888888888888888,
              "#fdca26"
             ],
             [
              1,
              "#f0f921"
             ]
            ],
            "type": "histogram2d"
           }
          ],
          "histogram2dcontour": [
           {
            "colorbar": {
             "outlinewidth": 0,
             "ticks": ""
            },
            "colorscale": [
             [
              0,
              "#0d0887"
             ],
             [
              0.1111111111111111,
              "#46039f"
             ],
             [
              0.2222222222222222,
              "#7201a8"
             ],
             [
              0.3333333333333333,
              "#9c179e"
             ],
             [
              0.4444444444444444,
              "#bd3786"
             ],
             [
              0.5555555555555556,
              "#d8576b"
             ],
             [
              0.6666666666666666,
              "#ed7953"
             ],
             [
              0.7777777777777778,
              "#fb9f3a"
             ],
             [
              0.8888888888888888,
              "#fdca26"
             ],
             [
              1,
              "#f0f921"
             ]
            ],
            "type": "histogram2dcontour"
           }
          ],
          "mesh3d": [
           {
            "colorbar": {
             "outlinewidth": 0,
             "ticks": ""
            },
            "type": "mesh3d"
           }
          ],
          "parcoords": [
           {
            "line": {
             "colorbar": {
              "outlinewidth": 0,
              "ticks": ""
             }
            },
            "type": "parcoords"
           }
          ],
          "scatter": [
           {
            "marker": {
             "colorbar": {
              "outlinewidth": 0,
              "ticks": ""
             }
            },
            "type": "scatter"
           }
          ],
          "scatter3d": [
           {
            "line": {
             "colorbar": {
              "outlinewidth": 0,
              "ticks": ""
             }
            },
            "marker": {
             "colorbar": {
              "outlinewidth": 0,
              "ticks": ""
             }
            },
            "type": "scatter3d"
           }
          ],
          "scattercarpet": [
           {
            "marker": {
             "colorbar": {
              "outlinewidth": 0,
              "ticks": ""
             }
            },
            "type": "scattercarpet"
           }
          ],
          "scattergeo": [
           {
            "marker": {
             "colorbar": {
              "outlinewidth": 0,
              "ticks": ""
             }
            },
            "type": "scattergeo"
           }
          ],
          "scattergl": [
           {
            "marker": {
             "colorbar": {
              "outlinewidth": 0,
              "ticks": ""
             }
            },
            "type": "scattergl"
           }
          ],
          "scattermapbox": [
           {
            "marker": {
             "colorbar": {
              "outlinewidth": 0,
              "ticks": ""
             }
            },
            "type": "scattermapbox"
           }
          ],
          "scatterpolar": [
           {
            "marker": {
             "colorbar": {
              "outlinewidth": 0,
              "ticks": ""
             }
            },
            "type": "scatterpolar"
           }
          ],
          "scatterpolargl": [
           {
            "marker": {
             "colorbar": {
              "outlinewidth": 0,
              "ticks": ""
             }
            },
            "type": "scatterpolargl"
           }
          ],
          "scatterternary": [
           {
            "marker": {
             "colorbar": {
              "outlinewidth": 0,
              "ticks": ""
             }
            },
            "type": "scatterternary"
           }
          ],
          "surface": [
           {
            "colorbar": {
             "outlinewidth": 0,
             "ticks": ""
            },
            "colorscale": [
             [
              0,
              "#0d0887"
             ],
             [
              0.1111111111111111,
              "#46039f"
             ],
             [
              0.2222222222222222,
              "#7201a8"
             ],
             [
              0.3333333333333333,
              "#9c179e"
             ],
             [
              0.4444444444444444,
              "#bd3786"
             ],
             [
              0.5555555555555556,
              "#d8576b"
             ],
             [
              0.6666666666666666,
              "#ed7953"
             ],
             [
              0.7777777777777778,
              "#fb9f3a"
             ],
             [
              0.8888888888888888,
              "#fdca26"
             ],
             [
              1,
              "#f0f921"
             ]
            ],
            "type": "surface"
           }
          ],
          "table": [
           {
            "cells": {
             "fill": {
              "color": "#EBF0F8"
             },
             "line": {
              "color": "white"
             }
            },
            "header": {
             "fill": {
              "color": "#C8D4E3"
             },
             "line": {
              "color": "white"
             }
            },
            "type": "table"
           }
          ]
         },
         "layout": {
          "annotationdefaults": {
           "arrowcolor": "#2a3f5f",
           "arrowhead": 0,
           "arrowwidth": 1
          },
          "colorscale": {
           "diverging": [
            [
             0,
             "#8e0152"
            ],
            [
             0.1,
             "#c51b7d"
            ],
            [
             0.2,
             "#de77ae"
            ],
            [
             0.3,
             "#f1b6da"
            ],
            [
             0.4,
             "#fde0ef"
            ],
            [
             0.5,
             "#f7f7f7"
            ],
            [
             0.6,
             "#e6f5d0"
            ],
            [
             0.7,
             "#b8e186"
            ],
            [
             0.8,
             "#7fbc41"
            ],
            [
             0.9,
             "#4d9221"
            ],
            [
             1,
             "#276419"
            ]
           ],
           "sequential": [
            [
             0,
             "#0d0887"
            ],
            [
             0.1111111111111111,
             "#46039f"
            ],
            [
             0.2222222222222222,
             "#7201a8"
            ],
            [
             0.3333333333333333,
             "#9c179e"
            ],
            [
             0.4444444444444444,
             "#bd3786"
            ],
            [
             0.5555555555555556,
             "#d8576b"
            ],
            [
             0.6666666666666666,
             "#ed7953"
            ],
            [
             0.7777777777777778,
             "#fb9f3a"
            ],
            [
             0.8888888888888888,
             "#fdca26"
            ],
            [
             1,
             "#f0f921"
            ]
           ],
           "sequentialminus": [
            [
             0,
             "#0d0887"
            ],
            [
             0.1111111111111111,
             "#46039f"
            ],
            [
             0.2222222222222222,
             "#7201a8"
            ],
            [
             0.3333333333333333,
             "#9c179e"
            ],
            [
             0.4444444444444444,
             "#bd3786"
            ],
            [
             0.5555555555555556,
             "#d8576b"
            ],
            [
             0.6666666666666666,
             "#ed7953"
            ],
            [
             0.7777777777777778,
             "#fb9f3a"
            ],
            [
             0.8888888888888888,
             "#fdca26"
            ],
            [
             1,
             "#f0f921"
            ]
           ]
          },
          "colorway": [
           "#636efa",
           "#EF553B",
           "#00cc96",
           "#ab63fa",
           "#FFA15A",
           "#19d3f3",
           "#FF6692",
           "#B6E880",
           "#FF97FF",
           "#FECB52"
          ],
          "font": {
           "color": "#2a3f5f"
          },
          "geo": {
           "bgcolor": "white",
           "lakecolor": "white",
           "landcolor": "#E5ECF6",
           "showlakes": true,
           "showland": true,
           "subunitcolor": "white"
          },
          "hoverlabel": {
           "align": "left"
          },
          "hovermode": "closest",
          "mapbox": {
           "style": "light"
          },
          "paper_bgcolor": "white",
          "plot_bgcolor": "#E5ECF6",
          "polar": {
           "angularaxis": {
            "gridcolor": "white",
            "linecolor": "white",
            "ticks": ""
           },
           "bgcolor": "#E5ECF6",
           "radialaxis": {
            "gridcolor": "white",
            "linecolor": "white",
            "ticks": ""
           }
          },
          "scene": {
           "xaxis": {
            "backgroundcolor": "#E5ECF6",
            "gridcolor": "white",
            "gridwidth": 2,
            "linecolor": "white",
            "showbackground": true,
            "ticks": "",
            "zerolinecolor": "white"
           },
           "yaxis": {
            "backgroundcolor": "#E5ECF6",
            "gridcolor": "white",
            "gridwidth": 2,
            "linecolor": "white",
            "showbackground": true,
            "ticks": "",
            "zerolinecolor": "white"
           },
           "zaxis": {
            "backgroundcolor": "#E5ECF6",
            "gridcolor": "white",
            "gridwidth": 2,
            "linecolor": "white",
            "showbackground": true,
            "ticks": "",
            "zerolinecolor": "white"
           }
          },
          "shapedefaults": {
           "line": {
            "color": "#2a3f5f"
           }
          },
          "ternary": {
           "aaxis": {
            "gridcolor": "white",
            "linecolor": "white",
            "ticks": ""
           },
           "baxis": {
            "gridcolor": "white",
            "linecolor": "white",
            "ticks": ""
           },
           "bgcolor": "#E5ECF6",
           "caxis": {
            "gridcolor": "white",
            "linecolor": "white",
            "ticks": ""
           }
          },
          "title": {
           "x": 0.05
          },
          "xaxis": {
           "automargin": true,
           "gridcolor": "white",
           "linecolor": "white",
           "ticks": "",
           "zerolinecolor": "white",
           "zerolinewidth": 2
          },
          "yaxis": {
           "automargin": true,
           "gridcolor": "white",
           "linecolor": "white",
           "ticks": "",
           "zerolinecolor": "white",
           "zerolinewidth": 2
          }
         }
        },
        "title": {
         "text": "Churn Riks"
        },
        "width": 400
       }
      },
      "text/html": [
       "<div>\n",
       "        \n",
       "        \n",
       "            <div id=\"409bfbdc-b779-4f0f-b772-52e4f3c94b0b\" class=\"plotly-graph-div\" style=\"height:300px; width:400px;\"></div>\n",
       "            <script type=\"text/javascript\">\n",
       "                require([\"plotly\"], function(Plotly) {\n",
       "                    window.PLOTLYENV=window.PLOTLYENV || {};\n",
       "                    \n",
       "                if (document.getElementById(\"409bfbdc-b779-4f0f-b772-52e4f3c94b0b\")) {\n",
       "                    Plotly.newPlot(\n",
       "                        '409bfbdc-b779-4f0f-b772-52e4f3c94b0b',\n",
       "                        [{\"labels\": [\"Medium\", \"Low\", \"High\"], \"type\": \"pie\", \"values\": [1017, 283, 0]}],\n",
       "                        {\"height\": 300, \"template\": {\"data\": {\"bar\": [{\"error_x\": {\"color\": \"#2a3f5f\"}, \"error_y\": {\"color\": \"#2a3f5f\"}, \"marker\": {\"line\": {\"color\": \"#E5ECF6\", \"width\": 0.5}}, \"type\": \"bar\"}], \"barpolar\": [{\"marker\": {\"line\": {\"color\": \"#E5ECF6\", \"width\": 0.5}}, \"type\": \"barpolar\"}], \"carpet\": [{\"aaxis\": {\"endlinecolor\": \"#2a3f5f\", \"gridcolor\": \"white\", \"linecolor\": \"white\", \"minorgridcolor\": \"white\", \"startlinecolor\": \"#2a3f5f\"}, \"baxis\": {\"endlinecolor\": \"#2a3f5f\", \"gridcolor\": \"white\", \"linecolor\": \"white\", \"minorgridcolor\": \"white\", \"startlinecolor\": \"#2a3f5f\"}, \"type\": \"carpet\"}], \"choropleth\": [{\"colorbar\": {\"outlinewidth\": 0, \"ticks\": \"\"}, \"type\": \"choropleth\"}], \"contour\": [{\"colorbar\": {\"outlinewidth\": 0, \"ticks\": \"\"}, \"colorscale\": [[0.0, \"#0d0887\"], [0.1111111111111111, \"#46039f\"], [0.2222222222222222, \"#7201a8\"], [0.3333333333333333, \"#9c179e\"], [0.4444444444444444, \"#bd3786\"], [0.5555555555555556, \"#d8576b\"], [0.6666666666666666, \"#ed7953\"], [0.7777777777777778, \"#fb9f3a\"], [0.8888888888888888, \"#fdca26\"], [1.0, \"#f0f921\"]], \"type\": \"contour\"}], \"contourcarpet\": [{\"colorbar\": {\"outlinewidth\": 0, \"ticks\": \"\"}, \"type\": \"contourcarpet\"}], \"heatmap\": [{\"colorbar\": {\"outlinewidth\": 0, \"ticks\": \"\"}, \"colorscale\": [[0.0, \"#0d0887\"], [0.1111111111111111, \"#46039f\"], [0.2222222222222222, \"#7201a8\"], [0.3333333333333333, \"#9c179e\"], [0.4444444444444444, \"#bd3786\"], [0.5555555555555556, \"#d8576b\"], [0.6666666666666666, \"#ed7953\"], [0.7777777777777778, \"#fb9f3a\"], [0.8888888888888888, \"#fdca26\"], [1.0, \"#f0f921\"]], \"type\": \"heatmap\"}], \"heatmapgl\": [{\"colorbar\": {\"outlinewidth\": 0, \"ticks\": \"\"}, \"colorscale\": [[0.0, \"#0d0887\"], [0.1111111111111111, \"#46039f\"], [0.2222222222222222, \"#7201a8\"], [0.3333333333333333, \"#9c179e\"], [0.4444444444444444, \"#bd3786\"], [0.5555555555555556, \"#d8576b\"], [0.6666666666666666, \"#ed7953\"], [0.7777777777777778, \"#fb9f3a\"], [0.8888888888888888, \"#fdca26\"], [1.0, \"#f0f921\"]], \"type\": \"heatmapgl\"}], \"histogram\": [{\"marker\": {\"colorbar\": {\"outlinewidth\": 0, \"ticks\": \"\"}}, \"type\": \"histogram\"}], \"histogram2d\": [{\"colorbar\": {\"outlinewidth\": 0, \"ticks\": \"\"}, \"colorscale\": [[0.0, \"#0d0887\"], [0.1111111111111111, \"#46039f\"], [0.2222222222222222, \"#7201a8\"], [0.3333333333333333, \"#9c179e\"], [0.4444444444444444, \"#bd3786\"], [0.5555555555555556, \"#d8576b\"], [0.6666666666666666, \"#ed7953\"], [0.7777777777777778, \"#fb9f3a\"], [0.8888888888888888, \"#fdca26\"], [1.0, \"#f0f921\"]], \"type\": \"histogram2d\"}], \"histogram2dcontour\": [{\"colorbar\": {\"outlinewidth\": 0, \"ticks\": \"\"}, \"colorscale\": [[0.0, \"#0d0887\"], [0.1111111111111111, \"#46039f\"], [0.2222222222222222, \"#7201a8\"], [0.3333333333333333, \"#9c179e\"], [0.4444444444444444, \"#bd3786\"], [0.5555555555555556, \"#d8576b\"], [0.6666666666666666, \"#ed7953\"], [0.7777777777777778, \"#fb9f3a\"], [0.8888888888888888, \"#fdca26\"], [1.0, \"#f0f921\"]], \"type\": \"histogram2dcontour\"}], \"mesh3d\": [{\"colorbar\": {\"outlinewidth\": 0, \"ticks\": \"\"}, \"type\": \"mesh3d\"}], \"parcoords\": [{\"line\": {\"colorbar\": {\"outlinewidth\": 0, \"ticks\": \"\"}}, \"type\": \"parcoords\"}], \"scatter\": [{\"marker\": {\"colorbar\": {\"outlinewidth\": 0, \"ticks\": \"\"}}, \"type\": \"scatter\"}], \"scatter3d\": [{\"line\": {\"colorbar\": {\"outlinewidth\": 0, \"ticks\": \"\"}}, \"marker\": {\"colorbar\": {\"outlinewidth\": 0, \"ticks\": \"\"}}, \"type\": \"scatter3d\"}], \"scattercarpet\": [{\"marker\": {\"colorbar\": {\"outlinewidth\": 0, \"ticks\": \"\"}}, \"type\": \"scattercarpet\"}], \"scattergeo\": [{\"marker\": {\"colorbar\": {\"outlinewidth\": 0, \"ticks\": \"\"}}, \"type\": \"scattergeo\"}], \"scattergl\": [{\"marker\": {\"colorbar\": {\"outlinewidth\": 0, \"ticks\": \"\"}}, \"type\": \"scattergl\"}], \"scattermapbox\": [{\"marker\": {\"colorbar\": {\"outlinewidth\": 0, \"ticks\": \"\"}}, \"type\": \"scattermapbox\"}], \"scatterpolar\": [{\"marker\": {\"colorbar\": {\"outlinewidth\": 0, \"ticks\": \"\"}}, \"type\": \"scatterpolar\"}], \"scatterpolargl\": [{\"marker\": {\"colorbar\": {\"outlinewidth\": 0, \"ticks\": \"\"}}, \"type\": \"scatterpolargl\"}], \"scatterternary\": [{\"marker\": {\"colorbar\": {\"outlinewidth\": 0, \"ticks\": \"\"}}, \"type\": \"scatterternary\"}], \"surface\": [{\"colorbar\": {\"outlinewidth\": 0, \"ticks\": \"\"}, \"colorscale\": [[0.0, \"#0d0887\"], [0.1111111111111111, \"#46039f\"], [0.2222222222222222, \"#7201a8\"], [0.3333333333333333, \"#9c179e\"], [0.4444444444444444, \"#bd3786\"], [0.5555555555555556, \"#d8576b\"], [0.6666666666666666, \"#ed7953\"], [0.7777777777777778, \"#fb9f3a\"], [0.8888888888888888, \"#fdca26\"], [1.0, \"#f0f921\"]], \"type\": \"surface\"}], \"table\": [{\"cells\": {\"fill\": {\"color\": \"#EBF0F8\"}, \"line\": {\"color\": \"white\"}}, \"header\": {\"fill\": {\"color\": \"#C8D4E3\"}, \"line\": {\"color\": \"white\"}}, \"type\": \"table\"}]}, \"layout\": {\"annotationdefaults\": {\"arrowcolor\": \"#2a3f5f\", \"arrowhead\": 0, \"arrowwidth\": 1}, \"colorscale\": {\"diverging\": [[0, \"#8e0152\"], [0.1, \"#c51b7d\"], [0.2, \"#de77ae\"], [0.3, \"#f1b6da\"], [0.4, \"#fde0ef\"], [0.5, \"#f7f7f7\"], [0.6, \"#e6f5d0\"], [0.7, \"#b8e186\"], [0.8, \"#7fbc41\"], [0.9, \"#4d9221\"], [1, \"#276419\"]], \"sequential\": [[0.0, \"#0d0887\"], [0.1111111111111111, \"#46039f\"], [0.2222222222222222, \"#7201a8\"], [0.3333333333333333, \"#9c179e\"], [0.4444444444444444, \"#bd3786\"], [0.5555555555555556, \"#d8576b\"], [0.6666666666666666, \"#ed7953\"], [0.7777777777777778, \"#fb9f3a\"], [0.8888888888888888, \"#fdca26\"], [1.0, \"#f0f921\"]], \"sequentialminus\": [[0.0, \"#0d0887\"], [0.1111111111111111, \"#46039f\"], [0.2222222222222222, \"#7201a8\"], [0.3333333333333333, \"#9c179e\"], [0.4444444444444444, \"#bd3786\"], [0.5555555555555556, \"#d8576b\"], [0.6666666666666666, \"#ed7953\"], [0.7777777777777778, \"#fb9f3a\"], [0.8888888888888888, \"#fdca26\"], [1.0, \"#f0f921\"]]}, \"colorway\": [\"#636efa\", \"#EF553B\", \"#00cc96\", \"#ab63fa\", \"#FFA15A\", \"#19d3f3\", \"#FF6692\", \"#B6E880\", \"#FF97FF\", \"#FECB52\"], \"font\": {\"color\": \"#2a3f5f\"}, \"geo\": {\"bgcolor\": \"white\", \"lakecolor\": \"white\", \"landcolor\": \"#E5ECF6\", \"showlakes\": true, \"showland\": true, \"subunitcolor\": \"white\"}, \"hoverlabel\": {\"align\": \"left\"}, \"hovermode\": \"closest\", \"mapbox\": {\"style\": \"light\"}, \"paper_bgcolor\": \"white\", \"plot_bgcolor\": \"#E5ECF6\", \"polar\": {\"angularaxis\": {\"gridcolor\": \"white\", \"linecolor\": \"white\", \"ticks\": \"\"}, \"bgcolor\": \"#E5ECF6\", \"radialaxis\": {\"gridcolor\": \"white\", \"linecolor\": \"white\", \"ticks\": \"\"}}, \"scene\": {\"xaxis\": {\"backgroundcolor\": \"#E5ECF6\", \"gridcolor\": \"white\", \"gridwidth\": 2, \"linecolor\": \"white\", \"showbackground\": true, \"ticks\": \"\", \"zerolinecolor\": \"white\"}, \"yaxis\": {\"backgroundcolor\": \"#E5ECF6\", \"gridcolor\": \"white\", \"gridwidth\": 2, \"linecolor\": \"white\", \"showbackground\": true, \"ticks\": \"\", \"zerolinecolor\": \"white\"}, \"zaxis\": {\"backgroundcolor\": \"#E5ECF6\", \"gridcolor\": \"white\", \"gridwidth\": 2, \"linecolor\": \"white\", \"showbackground\": true, \"ticks\": \"\", \"zerolinecolor\": \"white\"}}, \"shapedefaults\": {\"line\": {\"color\": \"#2a3f5f\"}}, \"ternary\": {\"aaxis\": {\"gridcolor\": \"white\", \"linecolor\": \"white\", \"ticks\": \"\"}, \"baxis\": {\"gridcolor\": \"white\", \"linecolor\": \"white\", \"ticks\": \"\"}, \"bgcolor\": \"#E5ECF6\", \"caxis\": {\"gridcolor\": \"white\", \"linecolor\": \"white\", \"ticks\": \"\"}}, \"title\": {\"x\": 0.05}, \"xaxis\": {\"automargin\": true, \"gridcolor\": \"white\", \"linecolor\": \"white\", \"ticks\": \"\", \"zerolinecolor\": \"white\", \"zerolinewidth\": 2}, \"yaxis\": {\"automargin\": true, \"gridcolor\": \"white\", \"linecolor\": \"white\", \"ticks\": \"\", \"zerolinecolor\": \"white\", \"zerolinewidth\": 2}}}, \"title\": {\"text\": \"Churn Riks\"}, \"width\": 400},\n",
       "                        {\"responsive\": true}\n",
       "                    ).then(function(){\n",
       "                            \n",
       "var gd = document.getElementById('409bfbdc-b779-4f0f-b772-52e4f3c94b0b');\n",
       "var x = new MutationObserver(function (mutations, observer) {{\n",
       "        var display = window.getComputedStyle(gd).display;\n",
       "        if (!display || display === 'none') {{\n",
       "            console.log([gd, 'removed!']);\n",
       "            Plotly.purge(gd);\n",
       "            observer.disconnect();\n",
       "        }}\n",
       "}});\n",
       "\n",
       "// Listen for the removal of the full notebook cells\n",
       "var notebookContainer = gd.closest('#notebook-container');\n",
       "if (notebookContainer) {{\n",
       "    x.observe(notebookContainer, {childList: true});\n",
       "}}\n",
       "\n",
       "// Listen for the clearing of the current output cell\n",
       "var outputEl = gd.closest('.output');\n",
       "if (outputEl) {{\n",
       "    x.observe(outputEl, {childList: true});\n",
       "}}\n",
       "\n",
       "                        })\n",
       "                };\n",
       "                });\n",
       "            </script>\n",
       "        </div>"
      ]
     },
     "metadata": {},
     "output_type": "display_data"
    }
   ],
   "source": [
    "m = a[a.Churn_risk == \"medium\"].Churn_risk.count()\n",
    "l = a[a.Churn_risk == \"low\"].Churn_risk.count()\n",
    "h = a[a.Churn_risk == \"high\"].Churn_risk.count()\n",
    "\n",
    "fig = go.Figure(go.Pie(labels=['Medium','Low','High'], values=[m, l,h]))\n",
    "fig.update_layout(height=300, width=400, title_text='Churn Riks')\n",
    "fig.show()"
   ]
  },
  {
   "cell_type": "code",
   "execution_count": null,
   "metadata": {},
   "outputs": [],
   "source": []
  }
 ],
 "metadata": {
  "kernelspec": {
   "display_name": "Python 3",
   "language": "python",
   "name": "python3"
  },
  "language_info": {
   "codemirror_mode": {
    "name": "ipython",
    "version": 3
   },
   "file_extension": ".py",
   "mimetype": "text/x-python",
   "name": "python",
   "nbconvert_exporter": "python",
   "pygments_lexer": "ipython3",
   "version": "3.7.7"
  }
 },
 "nbformat": 4,
 "nbformat_minor": 4
}
